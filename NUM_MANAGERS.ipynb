{
 "cells": [
  {
   "cell_type": "code",
   "execution_count": 363,
   "id": "e5869501",
   "metadata": {},
   "outputs": [],
   "source": [
    "import numpy as np\n",
    "import pandas as pd\n",
    "import matplotlib.pyplot as plt\n",
    "from scipy import stats\n",
    "from scipy.integrate import quad\n",
    "import seaborn as sns\n",
    "from scipy.interpolate import interp1d\n",
    "\n",
    "import importlib\n",
    "\n",
    "plt.rcParams['figure.figsize'] = (6.4, 4.8)\n",
    "plt.rcParams.update({'font.size': 10})\n",
    "plt.rcParams['figure.dpi'] = 75"
   ]
  },
  {
   "cell_type": "markdown",
   "id": "e50ffe0e",
   "metadata": {},
   "source": [
    "inputs: \n",
    "\n",
    "operational cost of adding new manager\n",
    "\n",
    "manager expected return\n",
    "manager volatility\n",
    "manager regime return\n",
    "\n",
    "correlation structure\n",
    "\n",
    "correlation regimes\n",
    "\n",
    "can't add leverage but can reduce manager sizes\n",
    "\n",
    "\n",
    "high volatility regime\n",
    "\n",
    "regime probabilities\n",
    "\n",
    "regime means\n",
    "\n",
    "objective function: maximizing probability of exceeding total return threshold, conditional return threshold\n",
    "\n",
    "Sharpe ratio assumption of 0.5\n",
    "\n",
    "what parameters would we need to assume to get what we have now?\n",
    "\n",
    "**formulate in terms of optimal shrinkage?**\n"
   ]
  },
  {
   "cell_type": "code",
   "execution_count": 364,
   "id": "679f06b4",
   "metadata": {},
   "outputs": [],
   "source": [
    "import num_managers\n",
    "\n",
    "importlib.reload(num_managers)\n",
    "\n",
    "from num_managers import PortfolioDist, PortfolioMixtureDist, ManagerEvaluator"
   ]
  },
  {
   "cell_type": "code",
   "execution_count": 365,
   "id": "3acfd42a",
   "metadata": {},
   "outputs": [],
   "source": [
    "def mean_decay_func(initial_mean, n, decay_rate = 0.1, mean_pct_floor = 0.5):\n",
    "    index = np.arange(n)\n",
    "    return np.maximum(initial_mean * (1 - decay_rate) ** index, initial_mean * mean_pct_floor)"
   ]
  },
  {
   "cell_type": "markdown",
   "id": "dd3c70f6",
   "metadata": {},
   "source": [
    "Conviction Decay Function\n",
    "\n",
    "$$ \\mu (1 - \\theta)^i$$"
   ]
  },
  {
   "cell_type": "code",
   "execution_count": 366,
   "id": "1c557889",
   "metadata": {},
   "outputs": [
    {
     "data": {
      "text/plain": [
       "<matplotlib.legend.Legend at 0x7f878186f3a0>"
      ]
     },
     "execution_count": 366,
     "metadata": {},
     "output_type": "execute_result"
    },
    {
     "data": {
      "image/png": "[encoded data removed]",
      "text/plain": [
       "<Figure size 480x360 with 1 Axes>"
      ]
     },
     "metadata": {},
     "output_type": "display_data"
    }
   ],
   "source": [
    "f, ax = plt.subplots()\n",
    "\n",
    "ax.plot(mean_decay_func(0.1, 20, 0.025), label = r\"$\\theta = 0.025$\")\n",
    "ax.plot(mean_decay_func(0.1, 20, 0.05), label = r\"$\\theta = 0.05$\")\n",
    "ax.plot(mean_decay_func(0.1, 20, 0.1), label = r\"$\\theta = 0.1$\")\n",
    "ax.set_title(\"Conviction Decay Curves\")\n",
    "ax.legend()"
   ]
  },
  {
   "cell_type": "markdown",
   "id": "34401b92",
   "metadata": {},
   "source": [
    "Regime 1 (normal): low vol, low correlations, low returns, no crisis\n",
    "\n",
    "Regime 2 (systematic crisis): high vol, high correlations, higher returns, crisis\n",
    "\n",
    "Regime 3 (idiosyncratic crisis): high vol, low correlations, higher returns, crisis\n",
    "\n",
    "Regime 4: (reversal): high vol, high correlations, low returns, no crisis\n"
   ]
  },
  {
   "cell_type": "code",
   "execution_count": 391,
   "id": "2ab0987e",
   "metadata": {},
   "outputs": [],
   "source": [
    "vols = np.array([0.12, 0.2, 0.2, 0.2])\n",
    "p = np.array([0.8, 0.1, 0.05, 0.05])\n",
    "sharpes = np.array([0.5, 0.75, 0.5, 0])\n",
    "corrs = np.array([0.25, 0.75, 0.25, 0.75])\n",
    "crisis_flags = np.array([0, 1, 1, 0])\n",
    "\n",
    "mean_decay_rate = 0.025\n",
    "mean_pct_floor = 0.5"
   ]
  },
  {
   "cell_type": "code",
   "execution_count": null,
   "id": "2e4a84ea",
   "metadata": {},
   "outputs": [],
   "source": []
  },
  {
   "cell_type": "code",
   "execution_count": 392,
   "id": "807bceca",
   "metadata": {},
   "outputs": [],
   "source": [
    "m1 = ManagerEvaluator(p, vols, sharpes, corrs, crisis_flags, \n",
    "                      mean_decay_rate = mean_decay_rate, mean_pct_floor = mean_pct_floor)"
   ]
  },
  {
   "cell_type": "code",
   "execution_count": 393,
   "id": "87df8a40",
   "metadata": {},
   "outputs": [
    {
     "name": "stdout",
     "output_type": "stream",
     "text": [
      "[0.06]\n",
      "[0.15]\n",
      "[0.1]\n",
      "[0.]\n"
     ]
    }
   ],
   "source": [
    "d1 = m1.evaluate(1)[\"Dist\"]"
   ]
  },
  {
   "cell_type": "code",
   "execution_count": 394,
   "id": "2c2153b2",
   "metadata": {},
   "outputs": [
    {
     "name": "stdout",
     "output_type": "stream",
     "text": [
      "[0.06   0.0585]\n",
      "[0.15    0.14625]\n",
      "[0.1    0.0975]\n",
      "[0. 0.]\n"
     ]
    }
   ],
   "source": [
    "d2 = m1.evaluate(2)[\"Dist\"]"
   ]
  },
  {
   "cell_type": "code",
   "execution_count": 395,
   "id": "397e84ae",
   "metadata": {},
   "outputs": [
    {
     "name": "stdout",
     "output_type": "stream",
     "text": [
      "[0.06      0.0585    0.0570375]\n",
      "[0.15       0.14625    0.14259375]\n",
      "[0.1       0.0975    0.0950625]\n",
      "[0. 0. 0.]\n"
     ]
    }
   ],
   "source": [
    "d3 = m1.evaluate(3)[\"Dist\"]"
   ]
  },
  {
   "cell_type": "code",
   "execution_count": 396,
   "id": "87370f9f",
   "metadata": {},
   "outputs": [
    {
     "data": {
      "text/plain": [
       "[<matplotlib.lines.Line2D at 0x7f87502c2ac0>]"
      ]
     },
     "execution_count": 396,
     "metadata": {},
     "output_type": "execute_result"
    },
    {
     "data": {
      "image/png": "[encoded data removed]",
      "text/plain": [
       "<Figure size 480x360 with 1 Axes>"
      ]
     },
     "metadata": {},
     "output_type": "display_data"
    }
   ],
   "source": [
    "f, ax = plt.subplots()\n",
    "ax.plot(d1.x_range, d1.pdf())\n",
    "ax.plot(d2.x_range, d2.pdf())\n",
    "ax.plot(d3.x_range, d3.pdf())"
   ]
  },
  {
   "cell_type": "code",
   "execution_count": 397,
   "id": "bf55e70c",
   "metadata": {},
   "outputs": [
    {
     "data": {
      "text/plain": [
       "{'Ann. Mean': 0.068,\n",
       " 'Ann Std': 0.14326897780049946,\n",
       " 'Sharpe': 0.47463171053463704,\n",
       " 'Skew': 0.18096267402946042,\n",
       " 'Kurtosis': 1.0275777548354892,\n",
       " 'P>0': 0.6900803568452243,\n",
       " 'P>5': 0.5457116476094992}"
      ]
     },
     "execution_count": 397,
     "metadata": {},
     "output_type": "execute_result"
    }
   ],
   "source": [
    "d1.stats()"
   ]
  },
  {
   "cell_type": "code",
   "execution_count": 398,
   "id": "7a1c54e7",
   "metadata": {},
   "outputs": [
    {
     "data": {
      "text/plain": [
       "{'Ann. Mean': 0.06715,\n",
       " 'Ann Std': 0.1211652061752878,\n",
       " 'Sharpe': 0.554202003361057,\n",
       " 'Skew': 0.272482231775084,\n",
       " 'Kurtosis': 1.8252516463345057,\n",
       " 'P>0': 0.727361726041001,\n",
       " 'P>5': 0.5518586318411407}"
      ]
     },
     "execution_count": 398,
     "metadata": {},
     "output_type": "execute_result"
    }
   ],
   "source": [
    "d2.stats()"
   ]
  },
  {
   "cell_type": "code",
   "execution_count": 399,
   "id": "4df951e3",
   "metadata": {},
   "outputs": [
    {
     "data": {
      "text/plain": [
       "{'Ann. Mean': 0.06631416666666666,\n",
       " 'Ann Std': 0.11276851280904254,\n",
       " 'Sharpe': 0.5880556993684956,\n",
       " 'Skew': 0.32397992537072146,\n",
       " 'Kurtosis': 2.375737574396749,\n",
       " 'P>0': 0.745403898644992,\n",
       " 'P>5': 0.5532501926256563}"
      ]
     },
     "execution_count": 399,
     "metadata": {},
     "output_type": "execute_result"
    }
   ],
   "source": [
    "d3.stats()"
   ]
  },
  {
   "cell_type": "code",
   "execution_count": null,
   "id": "60d55f8a",
   "metadata": {},
   "outputs": [],
   "source": []
  }
 ],
 "metadata": {
  "kernelspec": {
   "display_name": "Python 3 (ipykernel)",
   "language": "python",
   "name": "python3"
  },
  "language_info": {
   "codemirror_mode": {
    "name": "ipython",
    "version": 3
   },
   "file_extension": ".py",
   "mimetype": "text/x-python",
   "name": "python",
   "nbconvert_exporter": "python",
   "pygments_lexer": "ipython3",
   "version": "3.9.7"
  }
 },
 "nbformat": 4,
 "nbformat_minor": 5
}
