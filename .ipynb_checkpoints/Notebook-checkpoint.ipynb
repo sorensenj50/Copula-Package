{
 "cells": [
  {
   "cell_type": "code",
   "execution_count": 265,
   "id": "26d27a2b",
   "metadata": {},
   "outputs": [],
   "source": [
    "# todo list\n",
    "\n",
    "# generalized t distribution\n",
    "# being able to fix parameters in fitting?\n",
    "# summary on marginal distributions\n",
    "# robust covariance"
   ]
  },
  {
   "cell_type": "code",
   "execution_count": 369,
   "id": "6c2c15be",
   "metadata": {},
   "outputs": [],
   "source": [
    "import numpy as np\n",
    "import pandas as pd\n",
    "import matplotlib.pyplot as plt\n",
    "from scipy import stats\n",
    "from scipy.special import gamma, beta\n",
    "from scipy.integrate import dblquad, cumtrapz\n",
    "from scipy.stats import gaussian_kde, norm\n",
    "from scipy.interpolate import interp1d\n",
    "\n",
    "\n",
    "\n",
    "import importlib\n",
    "\n",
    "import base, bivariate, marginals, utils, tests, plots\n",
    "\n",
    "importlib.reload(base)\n",
    "importlib.reload(utils)\n",
    "importlib.reload(bivariate)\n",
    "importlib.reload(marginals)\n",
    "importlib.reload(tests)\n",
    "importlib.reload(plots)\n",
    "\n",
    "\n",
    "plt.rcParams['figure.figsize'] = (6.4, 4.8)\n",
    "plt.rcParams.update({'font.size': 10})\n",
    "plt.rcParams['figure.dpi'] = 75\n"
   ]
  },
  {
   "cell_type": "code",
   "execution_count": 216,
   "id": "e4e08080",
   "metadata": {},
   "outputs": [],
   "source": [
    "#model = bivariate.StudentT(df = 5, Q = 0.7)\n",
    "#model = bivariate.BivariateNormalMix(Q1 = 0.5, Q2 = -0.25, p = 0.1, adj = 1e-2)\n",
    "model1 = bivariate.StudentsT(Q = 0.5, df = 10)\n",
    "#model2 = bivariate.Normal(Q = 0.5)\n",
    "\n",
    "#model = bivariate.Clayton(alpha = 0.5)\n",
    "#model = bivariate.Gumbel(delta = 1)\n",
    "\n",
    "#model1 = bivariate.Normal(Q = 0.3)"
   ]
  },
  {
   "cell_type": "code",
   "execution_count": 234,
   "id": "a559c41f",
   "metadata": {},
   "outputs": [],
   "source": [
    "#u1_sim, u2_sim = bivariate.StudentT(df = 5, Q = 0.9).simulate(n = 10000)\n",
    "\n",
    "#model = bivariate.Gumbel(delta = 1.5)\n",
    "#u1_sim, u2_sim = model2.simulate(n = 500)\n",
    "\n",
    "#model2 = bivariate.StudentT()\n",
    "#model2.fit(u1_sim, u2_sim)\n",
    "\n",
    "u1_sim, u2_sim = model1.simulate(n = 500)\n",
    "\n",
    "model2 = bivariate.StudentsT()\n",
    "model2.fit(u1_sim, u2_sim)"
   ]
  },
  {
   "cell_type": "code",
   "execution_count": 235,
   "id": "4a71f574",
   "metadata": {},
   "outputs": [
    {
     "name": "stdout",
     "output_type": "stream",
     "text": [
      "                           Bivariate Copula Summary                           \n",
      "==============================================================================\n",
      "Model Name:                 StudentsT   Log-Likelihood:                95.8093\n",
      "Model Family:              Elliptical   AIC:                          -91.8093\n",
      "Method:                          CMLE   BIC:                         -179.1893\n",
      "Num. Params:                        2   Kendall's Tau:                  0.3784\n",
      "Num. Obs:                         500   Spearman's Rho:                    nan\n",
      "Date:                Sat, Feb 10 2024   Upper Tail Depend.:                 NA\n",
      "Time:                        18:11:50   Lower Tail Depend.:                 NA\n",
      "                                                                              \n",
      "                                                                              \n",
      "                             Parameter Estimates                              \n",
      "==============================================================================\n",
      "             coef    std err       h0          t       P>|t|    95% Conf. Int.\n",
      "------------------------------------------------------------------------------\n",
      "df         8.4855     3.2868    30.00    -6.5457      0.0000 [2.0278, 14.9432]\n",
      "Q          0.5600     0.0302     0.00    18.5195      0.0000  [0.5006, 0.6194]\n",
      "==============================================================================\n",
      "\n",
      "Covariance Method: robust\n"
     ]
    }
   ],
   "source": [
    "print(model2.summary())"
   ]
  },
  {
   "cell_type": "code",
   "execution_count": 209,
   "id": "748e91f1",
   "metadata": {},
   "outputs": [],
   "source": [
    "#q_range = utils.get_u_range(5e-2, range_num = 100)\n",
    "\n",
    "#f, ax = plt.subplots()\n",
    "#ax.plot(q_range, np.where(q_range > 0.5, 1 - q_range, q_range))\n",
    "\n",
    "#Q = -0.5\n",
    "#models = [bivariate.Clayton(alpha = 0.5),\n",
    "#          bivariate.Clayton(alpha = 1)]\n",
    "\n",
    "\n",
    "#for model in models:\n",
    "#    ax.plot(q_range, model.quantile_dependance(q_range))\n",
    "    \n"
   ]
  },
  {
   "cell_type": "code",
   "execution_count": 210,
   "id": "edb651c5",
   "metadata": {},
   "outputs": [],
   "source": [
    "#ax = plots.quantile_dependance(u1_sim, u2_sim, copula = model1, copula_label = \"StudentsT Model\", \n",
    "#                               show_indep = True, boot = True)"
   ]
  },
  {
   "cell_type": "code",
   "execution_count": 1017,
   "id": "49884981",
   "metadata": {},
   "outputs": [],
   "source": [
    "#print(model2.summary())"
   ]
  },
  {
   "cell_type": "code",
   "execution_count": 1018,
   "id": "4f8e765d",
   "metadata": {},
   "outputs": [],
   "source": [
    "#marginal1 = marginals.StudentT(mean = 2, stdev = 1)\n",
    "#x1 = marginal1.simulate(n = 1000)\n",
    "\n",
    "\n",
    "#marginal2 = marginals.StudentT()\n",
    "#marginal2.fit(x1)"
   ]
  },
  {
   "cell_type": "code",
   "execution_count": 1019,
   "id": "c18b269d",
   "metadata": {},
   "outputs": [],
   "source": [
    "#print(marginal2.summary())"
   ]
  },
  {
   "cell_type": "code",
   "execution_count": 17,
   "id": "521e8019",
   "metadata": {},
   "outputs": [],
   "source": [
    "#copula = bivariate.Clayton(alpha = 0.5)\n",
    "#u1, u2 = utils.get_u_grid()"
   ]
  },
  {
   "cell_type": "code",
   "execution_count": 211,
   "id": "f3bd490d",
   "metadata": {},
   "outputs": [],
   "source": [
    "#plots.copula_3d_surf(copula, adj = 3e-2, azim = 150, elev = 30, cmap = \"inferno\")"
   ]
  },
  {
   "cell_type": "code",
   "execution_count": 212,
   "id": "8e97d6bc",
   "metadata": {},
   "outputs": [],
   "source": [
    "#plots.copula_contour(copula, num_levels = 5)"
   ]
  },
  {
   "cell_type": "code",
   "execution_count": 213,
   "id": "d99278fc",
   "metadata": {},
   "outputs": [],
   "source": [
    "#ax = plots.copula_quantile_curves(copula)"
   ]
  },
  {
   "cell_type": "code",
   "execution_count": null,
   "id": "ff2dd527",
   "metadata": {},
   "outputs": [],
   "source": []
  },
  {
   "cell_type": "code",
   "execution_count": null,
   "id": "a9eedad3",
   "metadata": {},
   "outputs": [],
   "source": []
  },
  {
   "cell_type": "code",
   "execution_count": 267,
   "id": "5c43c9e4",
   "metadata": {},
   "outputs": [],
   "source": [
    "data = np.random.normal(size = 150)"
   ]
  },
  {
   "cell_type": "code",
   "execution_count": 268,
   "id": "88d898e6",
   "metadata": {},
   "outputs": [],
   "source": [
    "marginal = marginals.GaussianKDE()\n",
    "\n",
    "marginal.fit(data)"
   ]
  },
  {
   "cell_type": "code",
   "execution_count": 269,
   "id": "c30becdd",
   "metadata": {},
   "outputs": [
    {
     "name": "stdout",
     "output_type": "stream",
     "text": [
      "                       Marginal Distribution Summary                       \n",
      "===========================================================================\n",
      "Model Name:               GaussianKDE   Bandwidth                    0.3671\n",
      "Method:                         scott   Log-Likelihood:           -197.5344\n",
      "Num. Params:                        1   AIC:                            nan\n",
      "Num. Obs:                         150   BIC:                            nan\n",
      "Date:                Sat, Feb 10 2024                                      \n",
      "Time:                        18:44:43                                      \n",
      "                                                                           \n",
      "                                                                           \n",
      "===========================================================================\n"
     ]
    }
   ],
   "source": [
    "print(marginal.summary())"
   ]
  },
  {
   "cell_type": "code",
   "execution_count": 194,
   "id": "6a63d667",
   "metadata": {},
   "outputs": [],
   "source": [
    "marginal = marginals.GaussianKDE()\n",
    "marginal.fit(data)\n",
    "\n",
    "\n",
    "x_range = np.linspace(np.min(data), np.max(data))"
   ]
  },
  {
   "cell_type": "code",
   "execution_count": 195,
   "id": "34855811",
   "metadata": {},
   "outputs": [
    {
     "data": {
      "text/plain": [
       "[<matplotlib.lines.Line2D at 0x7fbcfb697370>]"
      ]
     },
     "execution_count": 195,
     "metadata": {},
     "output_type": "execute_result"
    },
    {
     "data": {
      "image/png": "[encoded data removed]",
      "text/plain": [
       "<Figure size 480x360 with 1 Axes>"
      ]
     },
     "metadata": {},
     "output_type": "display_data"
    }
   ],
   "source": [
    "plt.plot(x_range, marginal.pdf(x_range))"
   ]
  },
  {
   "cell_type": "code",
   "execution_count": 196,
   "id": "0e6670d3",
   "metadata": {},
   "outputs": [
    {
     "data": {
      "text/plain": [
       "[<matplotlib.lines.Line2D at 0x7fbcd83820a0>]"
      ]
     },
     "execution_count": 196,
     "metadata": {},
     "output_type": "execute_result"
    },
    {
     "data": {
      "image/png": "[encoded data removed]",
      "text/plain": [
       "<Figure size 480x360 with 1 Axes>"
      ]
     },
     "metadata": {},
     "output_type": "display_data"
    }
   ],
   "source": [
    "plt.plot(x_range, marginal.cdf(x_range))"
   ]
  },
  {
   "cell_type": "code",
   "execution_count": 197,
   "id": "82be8df3",
   "metadata": {},
   "outputs": [
    {
     "data": {
      "text/plain": [
       "[<matplotlib.lines.Line2D at 0x7fbd19635c10>]"
      ]
     },
     "execution_count": 197,
     "metadata": {},
     "output_type": "execute_result"
    },
    {
     "data": {
      "image/png": "[encoded data removed]",
      "text/plain": [
       "<Figure size 480x360 with 1 Axes>"
      ]
     },
     "metadata": {},
     "output_type": "display_data"
    }
   ],
   "source": [
    "plt.plot(utils.get_u_range(), marginal.ppf(utils.get_u_range()))"
   ]
  },
  {
   "cell_type": "code",
   "execution_count": 177,
   "id": "ba05d0a5",
   "metadata": {},
   "outputs": [
    {
     "data": {
      "text/plain": [
       "array(18.63322863)"
      ]
     },
     "execution_count": 177,
     "metadata": {},
     "output_type": "execute_result"
    }
   ],
   "source": [
    "marginal.ppf(0.999)"
   ]
  },
  {
   "cell_type": "code",
   "execution_count": 240,
   "id": "a7a4fe1a",
   "metadata": {},
   "outputs": [],
   "source": [
    "def f(*params):\n",
    "    return \"Hello\""
   ]
  },
  {
   "cell_type": "code",
   "execution_count": null,
   "id": "de705505",
   "metadata": {},
   "outputs": [],
   "source": []
  },
  {
   "cell_type": "code",
   "execution_count": 132,
   "id": "dcde1bec",
   "metadata": {},
   "outputs": [],
   "source": [
    "# Compute CDF by cumulatively summing the PDF values and normalizing\n",
    "cdf_values = np.cumsum(pdf_values)\n",
    "cdf_values /= cdf_values[-1]\n",
    "\n"
   ]
  },
  {
   "cell_type": "code",
   "execution_count": 133,
   "id": "6a5fb363",
   "metadata": {},
   "outputs": [
    {
     "data": {
      "text/plain": [
       "[<matplotlib.lines.Line2D at 0x7fbcb8471460>]"
      ]
     },
     "execution_count": 133,
     "metadata": {},
     "output_type": "execute_result"
    },
    {
     "data": {
      "image/png": "[encoded data removed]",
      "text/plain": [
       "<Figure size 480x360 with 1 Axes>"
      ]
     },
     "metadata": {},
     "output_type": "display_data"
    }
   ],
   "source": [
    "plt.plot(x_range, cdf_values)"
   ]
  },
  {
   "cell_type": "code",
   "execution_count": 367,
   "id": "67e13a0d",
   "metadata": {},
   "outputs": [
    {
     "data": {
      "text/plain": [
       "[<matplotlib.lines.Line2D at 0x7fbcfc401670>]"
      ]
     },
     "execution_count": 367,
     "metadata": {},
     "output_type": "execute_result"
    },
    {
     "data": {
      "image/png": "[encoded data removed]",
      "text/plain": [
       "<Figure size 480x360 with 1 Axes>"
      ]
     },
     "metadata": {},
     "output_type": "display_data"
    }
   ],
   "source": [
    "def skew_gen_t_pdf(x, mu, sigma, lam, p, q):\n",
    "    \n",
    "    # common terms\n",
    "    beta_term1 = beta(1/p, q)\n",
    "    beta_term2 = beta(2/q, q - 1/p)\n",
    "    \n",
    "    # v variable\n",
    "    v1 = np.power(q, -1/p)\n",
    "    v2 = 1 + 3 * np.power(lam, 2)\n",
    "    v3 = beta(3/p, q - 2/p) / beta_term1\n",
    "    v4 = (4 * np.power(lam, 2)) * np.power(beta_term2 / beta_term1, 2)\n",
    "    v = v1 / np.sqrt(v2 * v3 - v4)\n",
    "    \n",
    "    \n",
    "    # m variable\n",
    "    sigma_term = 2 * sigma * v * np.power(q, 1/p)\n",
    "    m = lam * sigma_term * beta_term2 / beta_term1\n",
    "    \n",
    "    \n",
    "    # the final pdf\n",
    "    x_term = x - mu + m\n",
    "    pdf1 = sigma_term * beta_term1\n",
    "    pdf2 = np.power(np.abs(x_term), p)\n",
    "    pdf3 = q * np.power(v * sigma, p) * np.power(1 + lam * np.sign(x_term), p)\n",
    "    \n",
    "    fx = p / (pdf1 * np.power(1 + pdf2 / pdf3, 1/p + q))\n",
    "    \n",
    "    return fx\n",
    "    \n",
    "    \n",
    "pdf2 = skew_gen_t_pdf(x_range, 0, 1, 0.5, 2, 2)\n",
    "plt.plot(x_range, pdf2)\n",
    "\n"
   ]
  },
  {
   "cell_type": "code",
   "execution_count": 370,
   "id": "90947725",
   "metadata": {},
   "outputs": [
    {
     "name": "stderr",
     "output_type": "stream",
     "text": [
      "/var/folders/49/mmkh9v2n4zjdc4br5hvqsv_80000gn/T/ipykernel_74659/1276794935.py:1: DeprecationWarning: 'scipy.integrate.cumtrapz' is deprecated in favour of 'scipy.integrate.cumulative_trapezoid' and will be removed in SciPy 1.14.0\n",
      "  cumtrapz(x_range, pdf2)\n"
     ]
    },
    {
     "data": {
      "text/plain": [
       "array([-2.58904286e-04, -5.52046909e-04, -8.84888197e-04, -1.26390740e-03,\n",
       "       -1.69681999e-03, -2.19284680e-03, -2.76304878e-03, -3.42074459e-03,\n",
       "       -4.18203369e-03, -5.06645367e-03, -6.09780915e-03, -7.30522009e-03,\n",
       "       -8.72445147e-03, -1.03996036e-02, -1.23852642e-02, -1.47492515e-02,\n",
       "       -1.75761077e-02, -2.09715397e-02, -2.50680406e-02, -3.00319478e-02,\n",
       "       -3.60721986e-02, -4.34509742e-02, -5.24962329e-02, -6.36156983e-02,\n",
       "       -7.73110095e-02, -9.41891696e-02, -1.14965769e-01, -1.40450286e-01,\n",
       "       -1.71497920e-01, -2.08905673e-01, -2.53225892e-01, -3.04475721e-01,\n",
       "       -3.61749101e-01, -4.22804150e-01, -4.83803601e-01, -5.39483578e-01,\n",
       "       -5.84002476e-01, -6.12449790e-01, -6.22510240e-01, -6.21743580e-01,\n",
       "       -6.19394539e-01, -6.15900339e-01, -6.11676162e-01, -6.07128952e-01,\n",
       "       -6.02642112e-01, -5.98562470e-01, -5.95190155e-01, -5.92771720e-01,\n",
       "       -5.91496583e-01, -5.91496583e-01, -5.92848266e-01, -5.95577364e-01,\n",
       "       -5.99664867e-01, -6.05054103e-01, -6.11658252e-01, -6.19367834e-01,\n",
       "       -6.28057792e-01, -6.37593893e-01, -6.47838287e-01, -6.58654135e-01,\n",
       "       -6.69909302e-01, -6.81479147e-01, -6.93248503e-01, -7.05112941e-01,\n",
       "       -7.16979437e-01, -7.28766549e-01, -7.40404208e-01, -7.51833241e-01,\n",
       "       -7.63004677e-01, -7.73878934e-01, -7.84424935e-01, -7.94619191e-01,\n",
       "       -8.04444900e-01, -8.13891077e-01, -8.22951732e-01, -8.31625112e-01,\n",
       "       -8.39913013e-01, -8.47820157e-01, -8.55353644e-01, -8.62522465e-01,\n",
       "       -8.69337082e-01, -8.75809067e-01, -8.81950789e-01, -8.87775153e-01,\n",
       "       -8.93295379e-01, -8.98524823e-01, -9.03476823e-01, -9.08164580e-01,\n",
       "       -9.12601062e-01, -9.16798925e-01, -9.20770458e-01, -9.24527538e-01,\n",
       "       -9.28081601e-01, -9.31443619e-01, -9.34624091e-01, -9.37633038e-01,\n",
       "       -9.40480003e-01, -9.43174057e-01, -9.45723809e-01])"
      ]
     },
     "execution_count": 370,
     "metadata": {},
     "output_type": "execute_result"
    }
   ],
   "source": [
    "cumtrapz(x_range, pdf2)"
   ]
  },
  {
   "cell_type": "code",
   "execution_count": 386,
   "id": "0ca5caec",
   "metadata": {},
   "outputs": [
    {
     "name": "stdout",
     "output_type": "stream",
     "text": [
      "-3.15 3.15\n",
      "-3.3 3.3\n",
      "-3.4499999999999997 3.4499999999999997\n",
      "-3.5999999999999996 3.5999999999999996\n",
      "-3.7499999999999996 3.7499999999999996\n",
      "-3.8999999999999995 3.8999999999999995\n",
      "-4.05 4.05\n",
      "-4.2 4.2\n",
      "-4.3500000000000005 4.3500000000000005\n",
      "-4.500000000000001 4.500000000000001\n",
      "-4.650000000000001 4.650000000000001\n",
      "-4.800000000000002 4.800000000000002\n",
      "-4.950000000000002 4.950000000000002\n",
      "-5.100000000000002 5.100000000000002\n",
      "-5.250000000000003 5.250000000000003\n",
      "-5.400000000000003 5.400000000000003\n",
      "-5.550000000000003 5.550000000000003\n",
      "-5.700000000000004 5.700000000000004\n",
      "-5.700000000000004 5.700000000000004\n"
     ]
    },
    {
     "data": {
      "text/plain": [
       "(-5.700000000000004, 5.700000000000004)"
      ]
     },
     "execution_count": 386,
     "metadata": {},
     "output_type": "execute_result"
    }
   ],
   "source": [
    "def find_x_bounds(loc, scale, pdf_func, *pdf_params, tol = 1e-3, expansion_factor = 0.15):\n",
    "    \n",
    "    \n",
    "    step = expansion_factor * scale\n",
    "    left_bound = -3 * scale + loc; right_bound = 3 * scale + loc\n",
    "\n",
    "    \n",
    "    while True:\n",
    "        \n",
    "        pdf_right = pdf_func(right_bound, *pdf_params)[0]\n",
    "        pdf_left = pdf_func(left_bound, *pdf_params)[0]\n",
    "        \n",
    "        if pdf_left > tol:\n",
    "            left_bound -= step\n",
    "        \n",
    "        if pdf_right > tol:\n",
    "            right_bound += step\n",
    "            \n",
    "        print(left_bound, right_bound)\n",
    "        if pdf_left < tol and pdf_right < tol:\n",
    "            return left_bound, right_bound\n",
    "        \n",
    "        \n",
    "loc = 0\n",
    "scale = 1\n",
    "df = 5\n",
    "pdf_func = stats.t.pdf\n",
    "\n",
    "find_x_bounds(loc, scale, pdf_func, [df, loc, scale])"
   ]
  },
  {
   "cell_type": "code",
   "execution_count": null,
   "id": "7c496ea9",
   "metadata": {},
   "outputs": [],
   "source": []
  }
 ],
 "metadata": {
  "kernelspec": {
   "display_name": "Python 3 (ipykernel)",
   "language": "python",
   "name": "python3"
  },
  "language_info": {
   "codemirror_mode": {
    "name": "ipython",
    "version": 3
   },
   "file_extension": ".py",
   "mimetype": "text/x-python",
   "name": "python",
   "nbconvert_exporter": "python",
   "pygments_lexer": "ipython3",
   "version": "3.9.7"
  }
 },
 "nbformat": 4,
 "nbformat_minor": 5
}
