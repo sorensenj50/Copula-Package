{
 "cells": [
  {
   "cell_type": "code",
   "execution_count": 509,
   "id": "379ae460",
   "metadata": {},
   "outputs": [],
   "source": [
    "# todo list\n",
    "\n",
    "# generalized t distribution\n",
    "# being able to fix parameters in fitting?\n",
    "# summary on marginal distributions"
   ]
  },
  {
   "cell_type": "code",
   "execution_count": 526,
   "id": "6c2c15be",
   "metadata": {},
   "outputs": [],
   "source": [
    "import numpy as np\n",
    "import pandas as pd\n",
    "import matplotlib.pyplot as plt\n",
    "from scipy import stats\n",
    "from scipy.special import gamma, beta\n",
    "from scipy.integrate import dblquad, cumulative_trapezoid\n",
    "from scipy.stats import gaussian_kde, norm\n",
    "from scipy.interpolate import interp1d\n",
    "\n",
    "\n",
    "\n",
    "import importlib\n",
    "\n",
    "import base, bivariate, marginals, utils, tests, plots, mixture, total\n",
    "\n",
    "importlib.reload(base)\n",
    "importlib.reload(utils)\n",
    "importlib.reload(bivariate)\n",
    "importlib.reload(marginals)\n",
    "importlib.reload(tests)\n",
    "importlib.reload(plots)\n",
    "importlib.reload(mixture)\n",
    "importlib.reload(total)\n",
    "\n",
    "\n",
    "plt.rcParams['figure.figsize'] = (6.4, 4.8)\n",
    "plt.rcParams.update({'font.size': 10})\n",
    "plt.rcParams['figure.dpi'] = 75\n"
   ]
  },
  {
   "cell_type": "code",
   "execution_count": null,
   "id": "4d4a075d",
   "metadata": {},
   "outputs": [],
   "source": []
  },
  {
   "cell_type": "code",
   "execution_count": 527,
   "id": "5c95ee41",
   "metadata": {},
   "outputs": [],
   "source": [
    "copula = bivariate.NormalMixture(p1 = 0.85, p2 = 0.15, Q1 = -0.5, Q2 = 0.5)"
   ]
  },
  {
   "cell_type": "code",
   "execution_count": 528,
   "id": "1e4c6203",
   "metadata": {},
   "outputs": [
    {
     "name": "stdout",
     "output_type": "stream",
     "text": [
      "[9.99433607e-01 9.95450247e-01 9.93567647e-01 9.92057752e-01\n",
      " 9.90735495e-01 9.89530048e-01 9.88405378e-01 9.87340200e-01\n",
      " 9.86320701e-01 9.85337310e-01 9.84383064e-01 9.83452705e-01\n",
      " 9.82542139e-01 9.81648100e-01 9.80767926e-01 9.79899407e-01\n",
      " 9.79040682e-01 9.78190159e-01 9.77346458e-01 9.76508371e-01\n",
      " 9.75674830e-01 9.74844879e-01 9.74017656e-01 9.73192374e-01\n",
      " 9.72368313e-01 9.71544806e-01 9.70721232e-01 9.69897006e-01\n",
      " 9.69071578e-01 9.68244422e-01 9.67415034e-01 9.66582930e-01\n",
      " 9.65747639e-01 9.64908703e-01 9.64065672e-01 9.63218103e-01\n",
      " 9.62365557e-01 9.61507598e-01 9.60643788e-01 9.59773689e-01\n",
      " 9.58896859e-01 9.58012851e-01 9.57121210e-01 9.56221474e-01\n",
      " 9.55313167e-01 9.54395805e-01 9.53468886e-01 9.52531895e-01\n",
      " 9.51584296e-01 9.50625535e-01 9.49655034e-01 9.48672191e-01\n",
      " 9.47676376e-01 9.46666929e-01 9.45643156e-01 9.44604328e-01\n",
      " 9.43549674e-01 9.42478378e-01 9.41389576e-01 9.40282352e-01\n",
      " 9.39155727e-01 9.38008659e-01 9.36840033e-01 9.35648653e-01\n",
      " 9.34433233e-01 9.33192390e-01 9.31924629e-01 9.30628329e-01\n",
      " 9.29301732e-01 9.27942924e-01 9.26549811e-01 9.25120101e-01\n",
      " 9.23651272e-01 9.22140542e-01 9.20584828e-01 9.18980699e-01\n",
      " 9.17324324e-01 9.15611400e-01 9.13837074e-01 9.11995835e-01\n",
      " 9.10081395e-01 9.08086525e-01 9.06002854e-01 9.03820611e-01\n",
      " 9.01528284e-01 8.99112173e-01 8.96555777e-01 8.93838962e-01\n",
      " 8.90936780e-01 8.87817758e-01 8.84441337e-01 8.80753906e-01\n",
      " 8.76682341e-01 8.72122891e-01 8.66920619e-01 8.60827512e-01\n",
      " 8.53404772e-01 8.43742388e-01 8.29284705e-01 7.81588068e-01\n",
      " 9.91032009e-01 9.55653758e-01 9.42419997e-01 9.32540062e-01\n",
      " 9.24293452e-01 9.17046805e-01 9.10486155e-01 9.04429729e-01\n",
      " 8.98761499e-01 8.93402231e-01 8.88295043e-01 8.83397509e-01\n",
      " 8.78676997e-01 8.74107774e-01 8.69669121e-01 8.65344051e-01\n",
      " 8.61118430e-01 8.56980330e-01 8.52919570e-01 8.48927363e-01\n",
      " 8.44996053e-01 8.41118910e-01 8.37289967e-01 8.33503898e-01\n",
      " 8.29755908e-01 8.26041657e-01 8.22357189e-01 8.18698872e-01\n",
      " 8.15063360e-01 8.11447544e-01 8.07848524e-01 8.04263580e-01\n",
      " 8.00690144e-01 7.97125781e-01 7.93568172e-01 7.90015094e-01\n",
      " 7.86464405e-01 7.82914035e-01 7.79361970e-01 7.75806243e-01\n",
      " 7.72244923e-01 7.68676107e-01 7.65097910e-01 7.61508456e-01\n",
      " 7.57905871e-01 7.54288277e-01 7.50653779e-01 7.47000463e-01\n",
      " 7.43326385e-01 7.39629563e-01 7.35907971e-01 7.32159528e-01\n",
      " 7.28382093e-01 7.24573450e-01 7.20731303e-01 7.16853263e-01\n",
      " 7.12936838e-01 7.08979418e-01 7.04978263e-01 7.00930488e-01\n",
      " 6.96833047e-01 6.92682711e-01 6.88476050e-01 6.84209412e-01\n",
      " 6.79878890e-01 6.75480300e-01 6.71009139e-01 6.66460556e-01\n",
      " 6.61829296e-01 6.57109661e-01 6.52295439e-01 6.47379844e-01\n",
      " 6.42355427e-01 6.37213985e-01 6.31946445e-01 6.26542727e-01\n",
      " 6.20991583e-01 6.15280393e-01 6.09394929e-01 6.03319048e-01\n",
      " 5.97034324e-01 5.90519574e-01 5.83750264e-01 5.76697732e-01\n",
      " 5.69328182e-01 5.61601333e-01 5.53468604e-01 5.44870590e-01\n",
      " 5.35733495e-01 5.25963937e-01 5.15441133e-01 5.04004686e-01\n",
      " 4.91434570e-01 4.77416374e-01 4.61476252e-01 4.42846455e-01\n",
      " 4.20145646e-01 3.90435858e-01 3.45085469e-01 1.53480539e-01\n",
      " 9.58045287e-01 8.57812280e-01 8.27499994e-01 8.06262091e-01\n",
      " 7.89283974e-01 7.74855897e-01 7.62150649e-01 7.50698203e-01\n",
      " 7.40203146e-01 7.30466405e-01 7.21346760e-01 7.12740001e-01\n",
      " 7.04566784e-01 6.96765132e-01 6.89285599e-01 6.82088021e-01\n",
      " 6.75139267e-01 6.68411640e-01 6.61881710e-01 6.55529453e-01\n",
      " 6.49337591e-01 6.43291092e-01 6.37376774e-01 6.31583001e-01\n",
      " 6.25899430e-01 6.20316814e-01 6.14826839e-01 6.09421988e-01\n",
      " 6.04095435e-01 5.98840946e-01 5.93652806e-01 5.88525749e-01\n",
      " 5.83454907e-01 5.78435755e-01 5.73464073e-01 5.68535911e-01\n",
      " 5.63647552e-01 5.58795490e-01 5.53976402e-01 5.49187127e-01\n",
      " 5.44424647e-01 5.39686067e-01 5.34968602e-01 5.30269560e-01\n",
      " 5.25586330e-01 5.20916369e-01 5.16257190e-01 5.11606350e-01\n",
      " 5.06961444e-01 5.02320087e-01 4.97679913e-01 4.93038556e-01\n",
      " 4.88393650e-01 4.83742810e-01 4.79083631e-01 4.74413670e-01\n",
      " 4.69730440e-01 4.65031398e-01 4.60313933e-01 4.55575353e-01\n",
      " 4.50812873e-01 4.46023598e-01 4.41204510e-01 4.36352448e-01\n",
      " 4.31464089e-01 4.26535927e-01 4.21564245e-01 4.16545093e-01\n",
      " 4.11474251e-01 4.06347194e-01 4.01159054e-01 3.95904565e-01\n",
      " 3.90578012e-01 3.85173161e-01 3.79683186e-01 3.74100570e-01\n",
      " 3.68416999e-01 3.62623226e-01 3.56708908e-01 3.50662409e-01\n",
      " 3.44470547e-01 3.38118290e-01 3.31588360e-01 3.24860733e-01\n",
      " 3.17911979e-01 3.10714401e-01 3.03234868e-01 2.95433216e-01\n",
      " 2.87259999e-01 2.78653240e-01 2.69533595e-01 2.59796854e-01\n",
      " 2.49301797e-01 2.37849351e-01 2.25144103e-01 2.10716026e-01\n",
      " 1.93737909e-01 1.72500006e-01 1.42187720e-01 4.19547132e-02\n",
      " 8.46519461e-01 6.54914531e-01 6.09564142e-01 5.79854354e-01\n",
      " 5.57153545e-01 5.38523748e-01 5.22583626e-01 5.08565430e-01\n",
      " 4.95995314e-01 4.84558867e-01 4.74036063e-01 4.64266505e-01\n",
      " 4.55129410e-01 4.46531396e-01 4.38398667e-01 4.30671818e-01\n",
      " 4.23302268e-01 4.16249736e-01 4.09480426e-01 4.02965676e-01\n",
      " 3.96680952e-01 3.90605071e-01 3.84719607e-01 3.79008417e-01\n",
      " 3.73457273e-01 3.68053555e-01 3.62786015e-01 3.57644573e-01\n",
      " 3.52620156e-01 3.47704561e-01 3.42890339e-01 3.38170704e-01\n",
      " 3.33539444e-01 3.28990861e-01 3.24519700e-01 3.20121110e-01\n",
      " 3.15790588e-01 3.11523950e-01 3.07317289e-01 3.03166953e-01\n",
      " 2.99069512e-01 2.95021737e-01 2.91020582e-01 2.87063162e-01\n",
      " 2.83146737e-01 2.79268697e-01 2.75426550e-01 2.71617907e-01\n",
      " 2.67840472e-01 2.64092029e-01 2.60370437e-01 2.56673615e-01\n",
      " 2.52999537e-01 2.49346221e-01 2.45711723e-01 2.42094129e-01\n",
      " 2.38491544e-01 2.34902090e-01 2.31323893e-01 2.27755077e-01\n",
      " 2.24193757e-01 2.20638030e-01 2.17085965e-01 2.13535595e-01\n",
      " 2.09984906e-01 2.06431828e-01 2.02874219e-01 1.99309856e-01\n",
      " 1.95736420e-01 1.92151476e-01 1.88552456e-01 1.84936640e-01\n",
      " 1.81301128e-01 1.77642811e-01 1.73958343e-01 1.70244092e-01\n",
      " 1.66496102e-01 1.62710033e-01 1.58881090e-01 1.55003947e-01\n",
      " 1.51072637e-01 1.47080430e-01 1.43019670e-01 1.38881570e-01\n",
      " 1.34655949e-01 1.30330879e-01 1.25892226e-01 1.21323003e-01\n",
      " 1.16602491e-01 1.11704957e-01 1.06597769e-01 1.01238501e-01\n",
      " 9.55702714e-02 8.95138446e-02 8.29531948e-02 7.57065476e-02\n",
      " 6.74599384e-02 5.75800034e-02 4.43462417e-02 8.96799120e-03\n",
      " 2.18411932e-01 1.70715295e-01 1.56257612e-01 1.46595228e-01\n",
      " 1.39172488e-01 1.33079381e-01 1.27877109e-01 1.23317659e-01\n",
      " 1.19246094e-01 1.15558663e-01 1.12182242e-01 1.09063220e-01\n",
      " 1.06161038e-01 1.03444223e-01 1.00887827e-01 9.84717156e-02\n",
      " 9.61793892e-02 9.39971462e-02 9.19134752e-02 8.99186048e-02\n",
      " 8.80041649e-02 8.61629264e-02 8.43885998e-02 8.26756763e-02\n",
      " 8.10193012e-02 7.94151723e-02 7.78594577e-02 7.63487276e-02\n",
      " 7.48798990e-02 7.34501891e-02 7.20570764e-02 7.06982679e-02\n",
      " 6.93716713e-02 6.80753714e-02 6.68076096e-02 6.55667666e-02\n",
      " 6.43513471e-02 6.31599669e-02 6.19913407e-02 6.08442729e-02\n",
      " 5.97176482e-02 5.86104238e-02 5.75216225e-02 5.64503265e-02\n",
      " 5.53956719e-02 5.43568436e-02 5.33330711e-02 5.23236241e-02\n",
      " 5.13278092e-02 5.03449661e-02 4.93744651e-02 4.84157039e-02\n",
      " 4.74681050e-02 4.65311137e-02 4.56041951e-02 4.46868328e-02\n",
      " 4.37785265e-02 4.28787899e-02 4.19871491e-02 4.11031411e-02\n",
      " 4.02263112e-02 3.93562123e-02 3.84924022e-02 3.76344426e-02\n",
      " 3.67818967e-02 3.59343277e-02 3.50912967e-02 3.42523607e-02\n",
      " 3.34170699e-02 3.25849658e-02 3.17555781e-02 3.09284217e-02\n",
      " 3.01029936e-02 2.92787684e-02 2.84551942e-02 2.76316875e-02\n",
      " 2.68076265e-02 2.59823444e-02 2.51551205e-02 2.43251695e-02\n",
      " 2.34916288e-02 2.26535424e-02 2.18098412e-02 2.09593176e-02\n",
      " 2.01005927e-02 1.92320744e-02 1.83519003e-02 1.74578613e-02\n",
      " 1.65472954e-02 1.56169361e-02 1.46626901e-02 1.36792989e-02\n",
      " 1.26598002e-02 1.15946223e-02 1.04699519e-02 9.26450502e-03\n",
      " 7.94224814e-03 6.43235324e-03 4.54975278e-03 5.66392679e-04]\n"
     ]
    },
    {
     "ename": "ValueError",
     "evalue": "x and y must have same first dimension, but have shapes (100,) and (1,)",
     "output_type": "error",
     "traceback": [
      "\u001b[0;31m---------------------------------------------------------------------------\u001b[0m",
      "\u001b[0;31mValueError\u001b[0m                                Traceback (most recent call last)",
      "\u001b[0;32m/var/folders/49/mmkh9v2n4zjdc4br5hvqsv_80000gn/T/ipykernel_12662/1892469500.py\u001b[0m in \u001b[0;36m<module>\u001b[0;34m\u001b[0m\n\u001b[0;32m----> 1\u001b[0;31m \u001b[0mplots\u001b[0m\u001b[0;34m.\u001b[0m\u001b[0mcopula_quantile_curves\u001b[0m\u001b[0;34m(\u001b[0m\u001b[0mcopula\u001b[0m\u001b[0;34m)\u001b[0m\u001b[0;34m\u001b[0m\u001b[0;34m\u001b[0m\u001b[0m\n\u001b[0m",
      "\u001b[0;32m~/Documents/Copula Package/plots.py\u001b[0m in \u001b[0;36mcopula_quantile_curves\u001b[0;34m(copula_obj, ax, quantiles, adj, range_num)\u001b[0m\n\u001b[1;32m     99\u001b[0m \u001b[0;34m\u001b[0m\u001b[0m\n\u001b[1;32m    100\u001b[0m     \u001b[0;32mfor\u001b[0m \u001b[0mq\u001b[0m\u001b[0;34m,\u001b[0m \u001b[0mcurve\u001b[0m \u001b[0;32min\u001b[0m \u001b[0mzip\u001b[0m\u001b[0;34m(\u001b[0m\u001b[0mquantiles\u001b[0m\u001b[0;34m,\u001b[0m \u001b[0mcurves\u001b[0m\u001b[0;34m)\u001b[0m\u001b[0;34m:\u001b[0m\u001b[0;34m\u001b[0m\u001b[0;34m\u001b[0m\u001b[0m\n\u001b[0;32m--> 101\u001b[0;31m         \u001b[0max\u001b[0m\u001b[0;34m.\u001b[0m\u001b[0mplot\u001b[0m\u001b[0;34m(\u001b[0m\u001b[0mu\u001b[0m\u001b[0;34m,\u001b[0m \u001b[0mcurve\u001b[0m\u001b[0;34m,\u001b[0m \u001b[0mlabel\u001b[0m \u001b[0;34m=\u001b[0m \u001b[0mq\u001b[0m\u001b[0;34m)\u001b[0m\u001b[0;34m\u001b[0m\u001b[0;34m\u001b[0m\u001b[0m\n\u001b[0m\u001b[1;32m    102\u001b[0m \u001b[0;34m\u001b[0m\u001b[0m\n\u001b[1;32m    103\u001b[0m \u001b[0;34m\u001b[0m\u001b[0m\n",
      "\u001b[0;32m/opt/anaconda3/lib/python3.9/site-packages/matplotlib/axes/_axes.py\u001b[0m in \u001b[0;36mplot\u001b[0;34m(self, scalex, scaley, data, *args, **kwargs)\u001b[0m\n\u001b[1;32m   1630\u001b[0m         \"\"\"\n\u001b[1;32m   1631\u001b[0m         \u001b[0mkwargs\u001b[0m \u001b[0;34m=\u001b[0m \u001b[0mcbook\u001b[0m\u001b[0;34m.\u001b[0m\u001b[0mnormalize_kwargs\u001b[0m\u001b[0;34m(\u001b[0m\u001b[0mkwargs\u001b[0m\u001b[0;34m,\u001b[0m \u001b[0mmlines\u001b[0m\u001b[0;34m.\u001b[0m\u001b[0mLine2D\u001b[0m\u001b[0;34m)\u001b[0m\u001b[0;34m\u001b[0m\u001b[0;34m\u001b[0m\u001b[0m\n\u001b[0;32m-> 1632\u001b[0;31m         \u001b[0mlines\u001b[0m \u001b[0;34m=\u001b[0m \u001b[0;34m[\u001b[0m\u001b[0;34m*\u001b[0m\u001b[0mself\u001b[0m\u001b[0;34m.\u001b[0m\u001b[0m_get_lines\u001b[0m\u001b[0;34m(\u001b[0m\u001b[0;34m*\u001b[0m\u001b[0margs\u001b[0m\u001b[0;34m,\u001b[0m \u001b[0mdata\u001b[0m\u001b[0;34m=\u001b[0m\u001b[0mdata\u001b[0m\u001b[0;34m,\u001b[0m \u001b[0;34m**\u001b[0m\u001b[0mkwargs\u001b[0m\u001b[0;34m)\u001b[0m\u001b[0;34m]\u001b[0m\u001b[0;34m\u001b[0m\u001b[0;34m\u001b[0m\u001b[0m\n\u001b[0m\u001b[1;32m   1633\u001b[0m         \u001b[0;32mfor\u001b[0m \u001b[0mline\u001b[0m \u001b[0;32min\u001b[0m \u001b[0mlines\u001b[0m\u001b[0;34m:\u001b[0m\u001b[0;34m\u001b[0m\u001b[0;34m\u001b[0m\u001b[0m\n\u001b[1;32m   1634\u001b[0m             \u001b[0mself\u001b[0m\u001b[0;34m.\u001b[0m\u001b[0madd_line\u001b[0m\u001b[0;34m(\u001b[0m\u001b[0mline\u001b[0m\u001b[0;34m)\u001b[0m\u001b[0;34m\u001b[0m\u001b[0;34m\u001b[0m\u001b[0m\n",
      "\u001b[0;32m/opt/anaconda3/lib/python3.9/site-packages/matplotlib/axes/_base.py\u001b[0m in \u001b[0;36m__call__\u001b[0;34m(self, data, *args, **kwargs)\u001b[0m\n\u001b[1;32m    310\u001b[0m                 \u001b[0mthis\u001b[0m \u001b[0;34m+=\u001b[0m \u001b[0margs\u001b[0m\u001b[0;34m[\u001b[0m\u001b[0;36m0\u001b[0m\u001b[0;34m]\u001b[0m\u001b[0;34m,\u001b[0m\u001b[0;34m\u001b[0m\u001b[0;34m\u001b[0m\u001b[0m\n\u001b[1;32m    311\u001b[0m                 \u001b[0margs\u001b[0m \u001b[0;34m=\u001b[0m \u001b[0margs\u001b[0m\u001b[0;34m[\u001b[0m\u001b[0;36m1\u001b[0m\u001b[0;34m:\u001b[0m\u001b[0;34m]\u001b[0m\u001b[0;34m\u001b[0m\u001b[0;34m\u001b[0m\u001b[0m\n\u001b[0;32m--> 312\u001b[0;31m             \u001b[0;32myield\u001b[0m \u001b[0;32mfrom\u001b[0m \u001b[0mself\u001b[0m\u001b[0;34m.\u001b[0m\u001b[0m_plot_args\u001b[0m\u001b[0;34m(\u001b[0m\u001b[0mthis\u001b[0m\u001b[0;34m,\u001b[0m \u001b[0mkwargs\u001b[0m\u001b[0;34m)\u001b[0m\u001b[0;34m\u001b[0m\u001b[0;34m\u001b[0m\u001b[0m\n\u001b[0m\u001b[1;32m    313\u001b[0m \u001b[0;34m\u001b[0m\u001b[0m\n\u001b[1;32m    314\u001b[0m     \u001b[0;32mdef\u001b[0m \u001b[0mget_next_color\u001b[0m\u001b[0;34m(\u001b[0m\u001b[0mself\u001b[0m\u001b[0;34m)\u001b[0m\u001b[0;34m:\u001b[0m\u001b[0;34m\u001b[0m\u001b[0;34m\u001b[0m\u001b[0m\n",
      "\u001b[0;32m/opt/anaconda3/lib/python3.9/site-packages/matplotlib/axes/_base.py\u001b[0m in \u001b[0;36m_plot_args\u001b[0;34m(self, tup, kwargs, return_kwargs)\u001b[0m\n\u001b[1;32m    496\u001b[0m \u001b[0;34m\u001b[0m\u001b[0m\n\u001b[1;32m    497\u001b[0m         \u001b[0;32mif\u001b[0m \u001b[0mx\u001b[0m\u001b[0;34m.\u001b[0m\u001b[0mshape\u001b[0m\u001b[0;34m[\u001b[0m\u001b[0;36m0\u001b[0m\u001b[0;34m]\u001b[0m \u001b[0;34m!=\u001b[0m \u001b[0my\u001b[0m\u001b[0;34m.\u001b[0m\u001b[0mshape\u001b[0m\u001b[0;34m[\u001b[0m\u001b[0;36m0\u001b[0m\u001b[0;34m]\u001b[0m\u001b[0;34m:\u001b[0m\u001b[0;34m\u001b[0m\u001b[0;34m\u001b[0m\u001b[0m\n\u001b[0;32m--> 498\u001b[0;31m             raise ValueError(f\"x and y must have same first dimension, but \"\n\u001b[0m\u001b[1;32m    499\u001b[0m                              f\"have shapes {x.shape} and {y.shape}\")\n\u001b[1;32m    500\u001b[0m         \u001b[0;32mif\u001b[0m \u001b[0mx\u001b[0m\u001b[0;34m.\u001b[0m\u001b[0mndim\u001b[0m \u001b[0;34m>\u001b[0m \u001b[0;36m2\u001b[0m \u001b[0;32mor\u001b[0m \u001b[0my\u001b[0m\u001b[0;34m.\u001b[0m\u001b[0mndim\u001b[0m \u001b[0;34m>\u001b[0m \u001b[0;36m2\u001b[0m\u001b[0;34m:\u001b[0m\u001b[0;34m\u001b[0m\u001b[0;34m\u001b[0m\u001b[0m\n",
      "\u001b[0;31mValueError\u001b[0m: x and y must have same first dimension, but have shapes (100,) and (1,)"
     ]
    },
    {
     "data": {
      "image/png": "[encoded data removed]",
      "text/plain": [
       "<Figure size 480x360 with 1 Axes>"
      ]
     },
     "metadata": {},
     "output_type": "display_data"
    }
   ],
   "source": [
    "plots.copula_quantile_curves(copula)"
   ]
  },
  {
   "cell_type": "code",
   "execution_count": 519,
   "id": "752d1aef",
   "metadata": {},
   "outputs": [],
   "source": [
    "#u1, u2 = copula.simulate(n = 2_000)\n",
    "\n",
    "#f, ax = plt.subplots()\n",
    "#ax.scatter(u1, u2, alpha = 0.5)"
   ]
  },
  {
   "cell_type": "code",
   "execution_count": 477,
   "id": "44f0662c",
   "metadata": {
    "scrolled": false
   },
   "outputs": [],
   "source": [
    "#copula2 = bivariate.NormalMixture()\n",
    "#gamma1, gamma2 = copula2._e_step(u1, u2, 0.75, 0.25, -0.5, 0.5)\n",
    "\n",
    "\n",
    "#results = copula2._m_step(u1, u2, gamma1, gamma2, -0.5, 0.5)\n",
    "#results = copula2.fit(u1, u2, initial_params_guess = None, n_init = 10)"
   ]
  },
  {
   "cell_type": "code",
   "execution_count": 478,
   "id": "67863b4c",
   "metadata": {},
   "outputs": [
    {
     "name": "stdout",
     "output_type": "stream",
     "text": [
      "                           Bivariate Copula Summary                           \n",
      "==============================================================================\n",
      "Model Name:                    Normal   Log-Likelihood:                    nan\n",
      "Model Family:              Elliptical   AIC:                               nan\n",
      "Method:                          CMLE   BIC:                               nan\n",
      "Num. Params:                        1   Kendall's Tau:                  0.0000\n",
      "Num. Obs:                         nan   Spearman's Rho:                 0.0000\n",
      "Date:                Sun, Feb 18 2024   Upper Tail Depend.:                 NA\n",
      "Time:                        19:40:10   Lower Tail Depend.:                 NA\n",
      "                                                                              \n",
      "                            Parameter Estimatess                           \n",
      "===========================================================================\n",
      "             coef    std err       h0          t       P>|t| 95% Conf. Int.\n",
      "---------------------------------------------------------------------------\n",
      "Q          0.0000        nan     0.00        nan         nan     [nan, nan]\n",
      "===========================================================================\n"
     ]
    }
   ],
   "source": [
    "copula = bivariate.Normal()\n",
    "print(copula.summary())"
   ]
  },
  {
   "cell_type": "code",
   "execution_count": 479,
   "id": "7a5dd6d7",
   "metadata": {},
   "outputs": [
    {
     "name": "stdout",
     "output_type": "stream",
     "text": [
      "                          Bivariate Model Summary                          \n",
      "===========================================================================\n",
      "Method:                           MLE   Log-Likelihood:                 nan\n",
      "Num. Params:                        6   AIC:                            nan\n",
      "Num. Obs:                         nan   BIC:                            nan\n",
      "Date:                Sun, Feb 18 2024                                      \n",
      "Time:                        19:40:10                                      \n",
      "                                                                           \n",
      "                         Copula Parameter Estimates                        \n",
      "===========================================================================\n",
      "             coef    std err       h0          t       P>|t| 95% Conf. Int.\n",
      "---------------------------------------------------------------------------\n",
      "Q          0.0000        nan     0.00        nan         nan     [nan, nan]\n",
      "                       Marginal1 Parameter Estimates                       \n",
      "===========================================================================\n",
      "             coef    std err       h0          t       P>|t| 95% Conf. Int.\n",
      "---------------------------------------------------------------------------\n",
      "df        30.0000        nan    30.00        nan         nan     [nan, nan]\n",
      "mu         0.0000        nan     0.00        nan         nan     [nan, nan]\n",
      "sigma      1.0000        nan     1.00        nan         nan     [nan, nan]\n",
      "                       Marginal2 Parameter Estimates                       \n",
      "===========================================================================\n",
      "             coef    std err       h0          t       P>|t| 95% Conf. Int.\n",
      "---------------------------------------------------------------------------\n",
      "mu         0.0000        nan     0.00        nan         nan     [nan, nan]\n",
      "sigma      1.0000        nan     1.00        nan         nan     [nan, nan]\n",
      "===========================================================================\n"
     ]
    }
   ],
   "source": [
    "model = total.BivariateModel(copula = bivariate.Normal(), \n",
    "                             marginal1 = marginals.StudentsT(), \n",
    "                             marginal2 = marginals.Normal())\n",
    "\n",
    "print(model.summary())"
   ]
  },
  {
   "cell_type": "code",
   "execution_count": 421,
   "id": "5303e08c",
   "metadata": {},
   "outputs": [],
   "source": [
    "#ax = plots.quantile_dependance(u1_sim, u2_sim, copula = copula, copula_label = \"StudentsT Model\", \n",
    "#                               show_indep = True, boot = True)"
   ]
  },
  {
   "cell_type": "code",
   "execution_count": null,
   "id": "bf6ec930",
   "metadata": {},
   "outputs": [],
   "source": []
  },
  {
   "cell_type": "code",
   "execution_count": 266,
   "id": "1ff66756",
   "metadata": {},
   "outputs": [
    {
     "data": {
      "text/plain": [
       "[<matplotlib.lines.Line2D at 0x7f8e6815b970>]"
      ]
     },
     "execution_count": 266,
     "metadata": {},
     "output_type": "execute_result"
    },
    {
     "data": {
      "image/png": "[encoded data removed]",
      "text/plain": [
       "<Figure size 480x360 with 1 Axes>"
      ]
     },
     "metadata": {},
     "output_type": "display_data"
    }
   ],
   "source": [
    "#marginal1 = marginals.StandardSkewedT(eta = 30, lam = 0.5)\n",
    "\n",
    "\n",
    "#x_range = utils.get_x_range()\n",
    "#u_range = utils.get_u_range()\n",
    "\n",
    "#plt.plot(x_range, marginal1.pdf(x_range))\n",
    "#plt.plot(x_range, marginal1.cdf(x_range))\n",
    "#plt.plot(u_range, marginal1.ppf(u_range))"
   ]
  },
  {
   "cell_type": "code",
   "execution_count": 267,
   "id": "f9c7b21b",
   "metadata": {},
   "outputs": [
    {
     "name": "stdout",
     "output_type": "stream",
     "text": [
      "[[nan nan]\n",
      " [nan nan]]\n",
      "                       Marginal Distribution Summary                       \n",
      "===========================================================================\n",
      "Model Name:           SkewedStudentsT   Log-Likelihood:                 nan\n",
      "Method:                           MLE   AIC:                            nan\n",
      "Num. Params:                        2   BIC:                            nan\n",
      "Num. Obs:                        1000                                      \n",
      "Date:                Sun, Feb 11 2024                                      \n",
      "Time:                        19:04:33                                      \n",
      "                                                                           \n",
      "                                                                           \n",
      "                            Parameter Estimates                             \n",
      "============================================================================\n",
      "              coef    std err       h0          t       P>|t| 95% Conf. Int.\n",
      "----------------------------------------------------------------------------\n",
      "eta      1093.3656        nan    30.00        nan         nan     [nan, nan]\n",
      "lam         0.1238        nan     0.00        nan         nan     [nan, nan]\n",
      "============================================================================\n",
      "\n",
      "Covariance Method: robust\n"
     ]
    }
   ],
   "source": [
    "#marginal2 = marginals.StandardSkewedT()\n",
    "marginal2 = marginals.StandardSkewedT()\n",
    "\n",
    "data = marginal1.simulate(seed = 1, n = 1000)\n",
    "marginal2.fit(data, robust_cov = True)\n",
    "\n",
    "print(marginal2.summary())"
   ]
  },
  {
   "cell_type": "code",
   "execution_count": 263,
   "id": "1d60de2a",
   "metadata": {},
   "outputs": [
    {
     "name": "stdout",
     "output_type": "stream",
     "text": [
      "                       Marginal Distribution Summary                       \n",
      "===========================================================================\n",
      "Model Name:                    Normal   Log-Likelihood:          -1426.3500\n",
      "Method:                           MLE   AIC:                      1430.3500\n",
      "Num. Params:                        2   BIC:                      2866.5156\n",
      "Num. Obs:                        1000                                      \n",
      "Date:                Sun, Feb 11 2024                                      \n",
      "Time:                        19:03:26                                      \n",
      "                                                                           \n",
      "                                                                           \n",
      "                             Parameter Estimates                              \n",
      "==============================================================================\n",
      "             coef    std err       h0          t       P>|t|    95% Conf. Int.\n",
      "------------------------------------------------------------------------------\n",
      "mu         0.0169     0.0319     0.00     0.5292      0.5968 [-0.0457, 0.0794]\n",
      "sigma      1.0074     0.0257     1.00     0.2892      0.7725  [0.9570, 1.0579]\n",
      "==============================================================================\n",
      "\n",
      "Covariance Method: robust\n"
     ]
    }
   ],
   "source": [
    "#marginal2 = marginals.StandardSkewedT()\n",
    "marginal2 = marginals.Normal()\n",
    "\n",
    "data = marginal1.simulate(seed = 1, n = 1000)\n",
    "marginal2.fit(data, robust_cov = True)\n",
    "\n",
    "print(marginal2.summary())"
   ]
  },
  {
   "cell_type": "code",
   "execution_count": null,
   "id": "b1d51c9e",
   "metadata": {},
   "outputs": [],
   "source": []
  },
  {
   "cell_type": "code",
   "execution_count": 235,
   "id": "e4e08080",
   "metadata": {},
   "outputs": [],
   "source": [
    "#model = bivariate.StudentT(df = 5, Q = 0.7)\n",
    "#model = bivariate.BivariateNormalMix(Q1 = 0.5, Q2 = -0.25, p = 0.1, adj = 1e-2)\n",
    "model1 = bivariate.StudentsT(Q = 0.5, df = 10)\n",
    "#model2 = bivariate.Normal(Q = 0.5)\n",
    "\n",
    "#model = bivariate.Clayton(alpha = 0.5)\n",
    "#model = bivariate.Gumbel(delta = 1)\n",
    "\n",
    "#model1 = bivariate.Normal(Q = 0.3)"
   ]
  },
  {
   "cell_type": "code",
   "execution_count": 37,
   "id": "a559c41f",
   "metadata": {},
   "outputs": [],
   "source": [
    "#u1_sim, u2_sim = bivariate.StudentT(df = 5, Q = 0.9).simulate(n = 10000)\n",
    "\n",
    "#model = bivariate.Gumbel(delta = 1.5)\n",
    "#u1_sim, u2_sim = model2.simulate(n = 500)\n",
    "\n",
    "#model2 = bivariate.StudentT()\n",
    "#model2.fit(u1_sim, u2_sim)\n",
    "\n",
    "u1_sim, u2_sim = model1.simulate(n = 500)\n",
    "\n",
    "model2 = bivariate.StudentsT()\n",
    "model2.fit(u1_sim, u2_sim)"
   ]
  },
  {
   "cell_type": "code",
   "execution_count": 38,
   "id": "4a71f574",
   "metadata": {},
   "outputs": [
    {
     "name": "stdout",
     "output_type": "stream",
     "text": [
      "                           Bivariate Copula Summary                           \n",
      "==============================================================================\n",
      "Model Name:                 StudentsT   Log-Likelihood:                78.3465\n",
      "Model Family:              Elliptical   AIC:                          -74.3465\n",
      "Method:                          CMLE   BIC:                         -144.2638\n",
      "Num. Params:                        2   Kendall's Tau:                  0.3534\n",
      "Num. Obs:                         500   Spearman's Rho:                    nan\n",
      "Date:                Sun, Feb 11 2024   Upper Tail Depend.:                 NA\n",
      "Time:                        11:24:04   Lower Tail Depend.:                 NA\n",
      "                                                                              \n",
      "                                                                              \n",
      "                               Parameter Estimates                               \n",
      "=================================================================================\n",
      "             coef    std err       h0          t       P>|t|       95% Conf. Int.\n",
      "---------------------------------------------------------------------------------\n",
      "df        37.1320    52.5179    30.00     0.1358      0.8920 [-66.0510, 140.3149]\n",
      "Q          0.5271     0.0297     0.00    17.7742      0.0000     [0.4688, 0.5854]\n",
      "=================================================================================\n",
      "\n",
      "Covariance Method: robust\n"
     ]
    }
   ],
   "source": [
    "print(model2.summary())"
   ]
  },
  {
   "cell_type": "code",
   "execution_count": 39,
   "id": "748e91f1",
   "metadata": {},
   "outputs": [],
   "source": [
    "#q_range = utils.get_u_range(5e-2, range_num = 100)\n",
    "\n",
    "#f, ax = plt.subplots()\n",
    "#ax.plot(q_range, np.where(q_range > 0.5, 1 - q_range, q_range))\n",
    "\n",
    "#Q = -0.5\n",
    "#models = [bivariate.Clayton(alpha = 0.5),\n",
    "#          bivariate.Clayton(alpha = 1)]\n",
    "\n",
    "\n",
    "#for model in models:\n",
    "#    ax.plot(q_range, model.quantile_dependance(q_range))\n",
    "    \n"
   ]
  },
  {
   "cell_type": "code",
   "execution_count": 40,
   "id": "edb651c5",
   "metadata": {},
   "outputs": [],
   "source": [
    "#ax = plots.quantile_dependance(u1_sim, u2_sim, copula = model1, copula_label = \"StudentsT Model\", \n",
    "#                               show_indep = True, boot = True)"
   ]
  },
  {
   "cell_type": "code",
   "execution_count": 41,
   "id": "49884981",
   "metadata": {},
   "outputs": [],
   "source": [
    "#print(model2.summary())"
   ]
  },
  {
   "cell_type": "code",
   "execution_count": 42,
   "id": "4f8e765d",
   "metadata": {},
   "outputs": [],
   "source": [
    "#marginal1 = marginals.StudentT(mean = 2, stdev = 1)\n",
    "#x1 = marginal1.simulate(n = 1000)\n",
    "\n",
    "\n",
    "#marginal2 = marginals.StudentT()\n",
    "#marginal2.fit(x1)"
   ]
  },
  {
   "cell_type": "code",
   "execution_count": 43,
   "id": "c18b269d",
   "metadata": {},
   "outputs": [],
   "source": [
    "#print(marginal2.summary())"
   ]
  },
  {
   "cell_type": "code",
   "execution_count": 44,
   "id": "521e8019",
   "metadata": {},
   "outputs": [],
   "source": [
    "#copula = bivariate.Clayton(alpha = 0.5)\n",
    "#u1, u2 = utils.get_u_grid()"
   ]
  },
  {
   "cell_type": "code",
   "execution_count": 45,
   "id": "f3bd490d",
   "metadata": {},
   "outputs": [],
   "source": [
    "#plots.copula_3d_surf(copula, adj = 3e-2, azim = 150, elev = 30, cmap = \"inferno\")"
   ]
  },
  {
   "cell_type": "code",
   "execution_count": 46,
   "id": "8e97d6bc",
   "metadata": {},
   "outputs": [],
   "source": [
    "#plots.copula_contour(copula, num_levels = 5)"
   ]
  },
  {
   "cell_type": "code",
   "execution_count": 47,
   "id": "d99278fc",
   "metadata": {},
   "outputs": [],
   "source": [
    "#ax = plots.copula_quantile_curves(copula)"
   ]
  },
  {
   "cell_type": "code",
   "execution_count": null,
   "id": "199721a3",
   "metadata": {},
   "outputs": [],
   "source": []
  },
  {
   "cell_type": "code",
   "execution_count": null,
   "id": "a9eedad3",
   "metadata": {},
   "outputs": [],
   "source": []
  },
  {
   "cell_type": "code",
   "execution_count": 48,
   "id": "57fbf065",
   "metadata": {},
   "outputs": [],
   "source": [
    "data = np.random.normal(size = 150)"
   ]
  },
  {
   "cell_type": "code",
   "execution_count": 49,
   "id": "6177d03f",
   "metadata": {},
   "outputs": [],
   "source": [
    "marginal = marginals.GaussianKDE()\n",
    "\n",
    "marginal.fit(data)"
   ]
  },
  {
   "cell_type": "code",
   "execution_count": 50,
   "id": "c8d4e8ee",
   "metadata": {},
   "outputs": [
    {
     "name": "stdout",
     "output_type": "stream",
     "text": [
      "                       Marginal Distribution Summary                       \n",
      "===========================================================================\n",
      "Model Name:               GaussianKDE   Bandwidth                    0.3671\n",
      "Method:                         scott   Log-Likelihood:           -220.1374\n",
      "Num. Params:                        1   AIC:                            nan\n",
      "Num. Obs:                         150   BIC:                            nan\n",
      "Date:                Sun, Feb 11 2024                                      \n",
      "Time:                        11:24:09                                      \n",
      "                                                                           \n",
      "                                                                           \n",
      "===========================================================================\n"
     ]
    }
   ],
   "source": [
    "print(marginal.summary())"
   ]
  },
  {
   "cell_type": "code",
   "execution_count": 51,
   "id": "774508ed",
   "metadata": {},
   "outputs": [],
   "source": [
    "marginal = marginals.GaussianKDE()\n",
    "marginal.fit(data)\n",
    "\n",
    "\n",
    "x_range = np.linspace(np.min(data), np.max(data))"
   ]
  },
  {
   "cell_type": "code",
   "execution_count": 52,
   "id": "a90adf9c",
   "metadata": {},
   "outputs": [
    {
     "data": {
      "text/plain": [
       "[<matplotlib.lines.Line2D at 0x7f9a4954bbe0>]"
      ]
     },
     "execution_count": 52,
     "metadata": {},
     "output_type": "execute_result"
    },
    {
     "data": {
      "image/png": "[encoded data removed]",
      "text/plain": [
       "<Figure size 480x360 with 1 Axes>"
      ]
     },
     "metadata": {},
     "output_type": "display_data"
    }
   ],
   "source": [
    "plt.plot(x_range, marginal.pdf(x_range))"
   ]
  },
  {
   "cell_type": "code",
   "execution_count": 53,
   "id": "0395aa56",
   "metadata": {},
   "outputs": [
    {
     "data": {
      "text/plain": [
       "[<matplotlib.lines.Line2D at 0x7f9a180b1370>]"
      ]
     },
     "execution_count": 53,
     "metadata": {},
     "output_type": "execute_result"
    },
    {
     "data": {
      "image/png": "[encoded data removed]",
      "text/plain": [
       "<Figure size 480x360 with 1 Axes>"
      ]
     },
     "metadata": {},
     "output_type": "display_data"
    }
   ],
   "source": [
    "plt.plot(x_range, marginal.cdf(x_range))"
   ]
  },
  {
   "cell_type": "code",
   "execution_count": 54,
   "id": "ec884331",
   "metadata": {},
   "outputs": [
    {
     "data": {
      "text/plain": [
       "[<matplotlib.lines.Line2D at 0x7f9a68be6460>]"
      ]
     },
     "execution_count": 54,
     "metadata": {},
     "output_type": "execute_result"
    },
    {
     "data": {
      "image/png": "[encoded data removed]",
      "text/plain": [
       "<Figure size 480x360 with 1 Axes>"
      ]
     },
     "metadata": {},
     "output_type": "display_data"
    }
   ],
   "source": [
    "plt.plot(utils.get_u_range(), marginal.ppf(utils.get_u_range()))"
   ]
  },
  {
   "cell_type": "code",
   "execution_count": 177,
   "id": "54552aae",
   "metadata": {},
   "outputs": [
    {
     "data": {
      "text/plain": [
       "array(18.63322863)"
      ]
     },
     "execution_count": 177,
     "metadata": {},
     "output_type": "execute_result"
    }
   ],
   "source": [
    "marginal.ppf(0.999)"
   ]
  },
  {
   "cell_type": "code",
   "execution_count": 240,
   "id": "695333ac",
   "metadata": {},
   "outputs": [],
   "source": [
    "def f(*params):\n",
    "    return \"Hello\""
   ]
  },
  {
   "cell_type": "code",
   "execution_count": null,
   "id": "2c290bd3",
   "metadata": {},
   "outputs": [],
   "source": []
  },
  {
   "cell_type": "code",
   "execution_count": 132,
   "id": "21721e63",
   "metadata": {},
   "outputs": [],
   "source": [
    "# Compute CDF by cumulatively summing the PDF values and normalizing\n",
    "cdf_values = np.cumsum(pdf_values)\n",
    "cdf_values /= cdf_values[-1]\n",
    "\n"
   ]
  },
  {
   "cell_type": "code",
   "execution_count": 133,
   "id": "133eaeb4",
   "metadata": {},
   "outputs": [
    {
     "data": {
      "text/plain": [
       "[<matplotlib.lines.Line2D at 0x7fbcb8471460>]"
      ]
     },
     "execution_count": 133,
     "metadata": {},
     "output_type": "execute_result"
    },
    {
     "data": {
      "image/png": "[encoded data removed]",
      "text/plain": [
       "<Figure size 480x360 with 1 Axes>"
      ]
     },
     "metadata": {},
     "output_type": "display_data"
    }
   ],
   "source": [
    "plt.plot(x_range, cdf_values)"
   ]
  },
  {
   "cell_type": "code",
   "execution_count": 367,
   "id": "7f5bec6b",
   "metadata": {},
   "outputs": [
    {
     "data": {
      "text/plain": [
       "[<matplotlib.lines.Line2D at 0x7fbcfc401670>]"
      ]
     },
     "execution_count": 367,
     "metadata": {},
     "output_type": "execute_result"
    },
    {
     "data": {
      "image/png": "[encoded data removed]",
      "text/plain": [
       "<Figure size 480x360 with 1 Axes>"
      ]
     },
     "metadata": {},
     "output_type": "display_data"
    }
   ],
   "source": [
    "def skew_gen_t_pdf(x, mu, sigma, lam, p, q):\n",
    "    \n",
    "    # common terms\n",
    "    beta_term1 = beta(1/p, q)\n",
    "    beta_term2 = beta(2/q, q - 1/p)\n",
    "    \n",
    "    # v variable\n",
    "    v1 = np.power(q, -1/p)\n",
    "    v2 = 1 + 3 * np.power(lam, 2)\n",
    "    v3 = beta(3/p, q - 2/p) / beta_term1\n",
    "    v4 = (4 * np.power(lam, 2)) * np.power(beta_term2 / beta_term1, 2)\n",
    "    v = v1 / np.sqrt(v2 * v3 - v4)\n",
    "    \n",
    "    \n",
    "    # m variable\n",
    "    sigma_term = 2 * sigma * v * np.power(q, 1/p)\n",
    "    m = lam * sigma_term * beta_term2 / beta_term1\n",
    "    \n",
    "    \n",
    "    # the final pdf\n",
    "    x_term = x - mu + m\n",
    "    pdf1 = sigma_term * beta_term1\n",
    "    pdf2 = np.power(np.abs(x_term), p)\n",
    "    pdf3 = q * np.power(v * sigma, p) * np.power(1 + lam * np.sign(x_term), p)\n",
    "    \n",
    "    fx = p / (pdf1 * np.power(1 + pdf2 / pdf3, 1/p + q))\n",
    "    \n",
    "    return fx\n",
    "    \n",
    "    \n",
    "pdf2 = skew_gen_t_pdf(x_range, 0, 1, 0.5, 2, 2)\n",
    "plt.plot(x_range, pdf2)\n",
    "\n"
   ]
  },
  {
   "cell_type": "code",
   "execution_count": 396,
   "id": "507c215f",
   "metadata": {},
   "outputs": [
    {
     "name": "stdout",
     "output_type": "stream",
     "text": [
      "-3.5 3.5\n",
      "-4.0 4.0\n",
      "-4.5 4.5\n",
      "-5.0 5.0\n",
      "-5.5 5.5\n",
      "-6.0 6.0\n",
      "-6.5 6.5\n",
      "-6.5 6.5\n"
     ]
    },
    {
     "data": {
      "text/plain": [
       "(-6.5, 6.5)"
      ]
     },
     "execution_count": 396,
     "metadata": {},
     "output_type": "execute_result"
    }
   ],
   "source": [
    "def find_x_bounds(loc, scale, pdf_func, *pdf_params, tol = 5e-4, expansion_factor = 0.5):\n",
    "    \n",
    "    \n",
    "    step = expansion_factor * scale\n",
    "    left_bound = -3 * scale + loc; right_bound = 3 * scale + loc\n",
    "\n",
    "    \n",
    "    while True:\n",
    "        \n",
    "        pdf_right = pdf_func(right_bound, *pdf_params)[0]\n",
    "        pdf_left = pdf_func(left_bound, *pdf_params)[0]\n",
    "        \n",
    "        if pdf_left > tol:\n",
    "            left_bound -= step\n",
    "        \n",
    "        if pdf_right > tol:\n",
    "            right_bound += step\n",
    "            \n",
    "        print(left_bound, right_bound)\n",
    "        if pdf_left < tol and pdf_right < tol:\n",
    "            return left_bound, right_bound\n",
    "        \n",
    "        \n",
    "loc = 0\n",
    "scale = 1\n",
    "df = 5\n",
    "pdf_func = stats.t.pdf\n",
    "\n",
    "find_x_bounds(loc, scale, pdf_func, [df, loc, scale])"
   ]
  },
  {
   "cell_type": "code",
   "execution_count": 397,
   "id": "2d5391ea",
   "metadata": {},
   "outputs": [
    {
     "data": {
      "text/plain": [
       "array([-6.        , -5.98798799, -5.97597598, -5.96396396, -5.95195195,\n",
       "       -5.93993994, -5.92792793, -5.91591592, -5.9039039 , -5.89189189,\n",
       "       -5.87987988, -5.86786787, -5.85585586, -5.84384384, -5.83183183,\n",
       "       -5.81981982, -5.80780781, -5.7957958 , -5.78378378, -5.77177177,\n",
       "       -5.75975976, -5.74774775, -5.73573574, -5.72372372, -5.71171171,\n",
       "       -5.6996997 , -5.68768769, -5.67567568, -5.66366366, -5.65165165,\n",
       "       -5.63963964, -5.62762763, -5.61561562, -5.6036036 , -5.59159159,\n",
       "       -5.57957958, -5.56756757, -5.55555556, -5.54354354, -5.53153153,\n",
       "       -5.51951952, -5.50750751, -5.4954955 , -5.48348348, -5.47147147,\n",
       "       -5.45945946, -5.44744745, -5.43543544, -5.42342342, -5.41141141,\n",
       "       -5.3993994 , -5.38738739, -5.37537538, -5.36336336, -5.35135135,\n",
       "       -5.33933934, -5.32732733, -5.31531532, -5.3033033 , -5.29129129,\n",
       "       -5.27927928, -5.26726727, -5.25525526, -5.24324324, -5.23123123,\n",
       "       -5.21921922, -5.20720721, -5.1951952 , -5.18318318, -5.17117117,\n",
       "       -5.15915916, -5.14714715, -5.13513514, -5.12312312, -5.11111111,\n",
       "       -5.0990991 , -5.08708709, -5.07507508, -5.06306306, -5.05105105,\n",
       "       -5.03903904, -5.02702703, -5.01501502, -5.003003  , -4.99099099,\n",
       "       -4.97897898, -4.96696697, -4.95495495, -4.94294294, -4.93093093,\n",
       "       -4.91891892, -4.90690691, -4.89489489, -4.88288288, -4.87087087,\n",
       "       -4.85885886, -4.84684685, -4.83483483, -4.82282282, -4.81081081,\n",
       "       -4.7987988 , -4.78678679, -4.77477477, -4.76276276, -4.75075075,\n",
       "       -4.73873874, -4.72672673, -4.71471471, -4.7027027 , -4.69069069,\n",
       "       -4.67867868, -4.66666667, -4.65465465, -4.64264264, -4.63063063,\n",
       "       -4.61861862, -4.60660661, -4.59459459, -4.58258258, -4.57057057,\n",
       "       -4.55855856, -4.54654655, -4.53453453, -4.52252252, -4.51051051,\n",
       "       -4.4984985 , -4.48648649, -4.47447447, -4.46246246, -4.45045045,\n",
       "       -4.43843844, -4.42642643, -4.41441441, -4.4024024 , -4.39039039,\n",
       "       -4.37837838, -4.36636637, -4.35435435, -4.34234234, -4.33033033,\n",
       "       -4.31831832, -4.30630631, -4.29429429, -4.28228228, -4.27027027,\n",
       "       -4.25825826, -4.24624625, -4.23423423, -4.22222222, -4.21021021,\n",
       "       -4.1981982 , -4.18618619, -4.17417417, -4.16216216, -4.15015015,\n",
       "       -4.13813814, -4.12612613, -4.11411411, -4.1021021 , -4.09009009,\n",
       "       -4.07807808, -4.06606607, -4.05405405, -4.04204204, -4.03003003,\n",
       "       -4.01801802, -4.00600601, -3.99399399, -3.98198198, -3.96996997,\n",
       "       -3.95795796, -3.94594595, -3.93393393, -3.92192192, -3.90990991,\n",
       "       -3.8978979 , -3.88588589, -3.87387387, -3.86186186, -3.84984985,\n",
       "       -3.83783784, -3.82582583, -3.81381381, -3.8018018 , -3.78978979,\n",
       "       -3.77777778, -3.76576577, -3.75375375, -3.74174174, -3.72972973,\n",
       "       -3.71771772, -3.70570571, -3.69369369, -3.68168168, -3.66966967,\n",
       "       -3.65765766, -3.64564565, -3.63363363, -3.62162162, -3.60960961,\n",
       "       -3.5975976 , -3.58558559, -3.57357357, -3.56156156, -3.54954955,\n",
       "       -3.53753754, -3.52552553, -3.51351351, -3.5015015 , -3.48948949,\n",
       "       -3.47747748, -3.46546547, -3.45345345, -3.44144144, -3.42942943,\n",
       "       -3.41741742, -3.40540541, -3.39339339, -3.38138138, -3.36936937,\n",
       "       -3.35735736, -3.34534535, -3.33333333, -3.32132132, -3.30930931,\n",
       "       -3.2972973 , -3.28528529, -3.27327327, -3.26126126, -3.24924925,\n",
       "       -3.23723724, -3.22522523, -3.21321321, -3.2012012 , -3.18918919,\n",
       "       -3.17717718, -3.16516517, -3.15315315, -3.14114114, -3.12912913,\n",
       "       -3.11711712, -3.10510511, -3.09309309, -3.08108108, -3.06906907,\n",
       "       -3.05705706, -3.04504505, -3.03303303, -3.02102102, -3.00900901,\n",
       "       -2.996997  , -2.98498498, -2.97297297, -2.96096096, -2.94894895,\n",
       "       -2.93693694, -2.92492492, -2.91291291, -2.9009009 , -2.88888889,\n",
       "       -2.87687688, -2.86486486, -2.85285285, -2.84084084, -2.82882883,\n",
       "       -2.81681682, -2.8048048 , -2.79279279, -2.78078078, -2.76876877,\n",
       "       -2.75675676, -2.74474474, -2.73273273, -2.72072072, -2.70870871,\n",
       "       -2.6966967 , -2.68468468, -2.67267267, -2.66066066, -2.64864865,\n",
       "       -2.63663664, -2.62462462, -2.61261261, -2.6006006 , -2.58858859,\n",
       "       -2.57657658, -2.56456456, -2.55255255, -2.54054054, -2.52852853,\n",
       "       -2.51651652, -2.5045045 , -2.49249249, -2.48048048, -2.46846847,\n",
       "       -2.45645646, -2.44444444, -2.43243243, -2.42042042, -2.40840841,\n",
       "       -2.3963964 , -2.38438438, -2.37237237, -2.36036036, -2.34834835,\n",
       "       -2.33633634, -2.32432432, -2.31231231, -2.3003003 , -2.28828829,\n",
       "       -2.27627628, -2.26426426, -2.25225225, -2.24024024, -2.22822823,\n",
       "       -2.21621622, -2.2042042 , -2.19219219, -2.18018018, -2.16816817,\n",
       "       -2.15615616, -2.14414414, -2.13213213, -2.12012012, -2.10810811,\n",
       "       -2.0960961 , -2.08408408, -2.07207207, -2.06006006, -2.04804805,\n",
       "       -2.03603604, -2.02402402, -2.01201201, -2.        , -1.98798799,\n",
       "       -1.97597598, -1.96396396, -1.95195195, -1.93993994, -1.92792793,\n",
       "       -1.91591592, -1.9039039 , -1.89189189, -1.87987988, -1.86786787,\n",
       "       -1.85585586, -1.84384384, -1.83183183, -1.81981982, -1.80780781,\n",
       "       -1.7957958 , -1.78378378, -1.77177177, -1.75975976, -1.74774775,\n",
       "       -1.73573574, -1.72372372, -1.71171171, -1.6996997 , -1.68768769,\n",
       "       -1.67567568, -1.66366366, -1.65165165, -1.63963964, -1.62762763,\n",
       "       -1.61561562, -1.6036036 , -1.59159159, -1.57957958, -1.56756757,\n",
       "       -1.55555556, -1.54354354, -1.53153153, -1.51951952, -1.50750751,\n",
       "       -1.4954955 , -1.48348348, -1.47147147, -1.45945946, -1.44744745,\n",
       "       -1.43543544, -1.42342342, -1.41141141, -1.3993994 , -1.38738739,\n",
       "       -1.37537538, -1.36336336, -1.35135135, -1.33933934, -1.32732733,\n",
       "       -1.31531532, -1.3033033 , -1.29129129, -1.27927928, -1.26726727,\n",
       "       -1.25525526, -1.24324324, -1.23123123, -1.21921922, -1.20720721,\n",
       "       -1.1951952 , -1.18318318, -1.17117117, -1.15915916, -1.14714715,\n",
       "       -1.13513514, -1.12312312, -1.11111111, -1.0990991 , -1.08708709,\n",
       "       -1.07507508, -1.06306306, -1.05105105, -1.03903904, -1.02702703,\n",
       "       -1.01501502, -1.003003  , -0.99099099, -0.97897898, -0.96696697,\n",
       "       -0.95495495, -0.94294294, -0.93093093, -0.91891892, -0.90690691,\n",
       "       -0.89489489, -0.88288288, -0.87087087, -0.85885886, -0.84684685,\n",
       "       -0.83483483, -0.82282282, -0.81081081, -0.7987988 , -0.78678679,\n",
       "       -0.77477477, -0.76276276, -0.75075075, -0.73873874, -0.72672673,\n",
       "       -0.71471471, -0.7027027 , -0.69069069, -0.67867868, -0.66666667,\n",
       "       -0.65465465, -0.64264264, -0.63063063, -0.61861862, -0.60660661,\n",
       "       -0.59459459, -0.58258258, -0.57057057, -0.55855856, -0.54654655,\n",
       "       -0.53453453, -0.52252252, -0.51051051, -0.4984985 , -0.48648649,\n",
       "       -0.47447447, -0.46246246, -0.45045045, -0.43843844, -0.42642643,\n",
       "       -0.41441441, -0.4024024 , -0.39039039, -0.37837838, -0.36636637,\n",
       "       -0.35435435, -0.34234234, -0.33033033, -0.31831832, -0.30630631,\n",
       "       -0.29429429, -0.28228228, -0.27027027, -0.25825826, -0.24624625,\n",
       "       -0.23423423, -0.22222222, -0.21021021, -0.1981982 , -0.18618619,\n",
       "       -0.17417417, -0.16216216, -0.15015015, -0.13813814, -0.12612613,\n",
       "       -0.11411411, -0.1021021 , -0.09009009, -0.07807808, -0.06606607,\n",
       "       -0.05405405, -0.04204204, -0.03003003, -0.01801802, -0.00600601,\n",
       "        0.00600601,  0.01801802,  0.03003003,  0.04204204,  0.05405405,\n",
       "        0.06606607,  0.07807808,  0.09009009,  0.1021021 ,  0.11411411,\n",
       "        0.12612613,  0.13813814,  0.15015015,  0.16216216,  0.17417417,\n",
       "        0.18618619,  0.1981982 ,  0.21021021,  0.22222222,  0.23423423,\n",
       "        0.24624625,  0.25825826,  0.27027027,  0.28228228,  0.29429429,\n",
       "        0.30630631,  0.31831832,  0.33033033,  0.34234234,  0.35435435,\n",
       "        0.36636637,  0.37837838,  0.39039039,  0.4024024 ,  0.41441441,\n",
       "        0.42642643,  0.43843844,  0.45045045,  0.46246246,  0.47447447,\n",
       "        0.48648649,  0.4984985 ,  0.51051051,  0.52252252,  0.53453453,\n",
       "        0.54654655,  0.55855856,  0.57057057,  0.58258258,  0.59459459,\n",
       "        0.60660661,  0.61861862,  0.63063063,  0.64264264,  0.65465465,\n",
       "        0.66666667,  0.67867868,  0.69069069,  0.7027027 ,  0.71471471,\n",
       "        0.72672673,  0.73873874,  0.75075075,  0.76276276,  0.77477477,\n",
       "        0.78678679,  0.7987988 ,  0.81081081,  0.82282282,  0.83483483,\n",
       "        0.84684685,  0.85885886,  0.87087087,  0.88288288,  0.89489489,\n",
       "        0.90690691,  0.91891892,  0.93093093,  0.94294294,  0.95495495,\n",
       "        0.96696697,  0.97897898,  0.99099099,  1.003003  ,  1.01501502,\n",
       "        1.02702703,  1.03903904,  1.05105105,  1.06306306,  1.07507508,\n",
       "        1.08708709,  1.0990991 ,  1.11111111,  1.12312312,  1.13513514,\n",
       "        1.14714715,  1.15915916,  1.17117117,  1.18318318,  1.1951952 ,\n",
       "        1.20720721,  1.21921922,  1.23123123,  1.24324324,  1.25525526,\n",
       "        1.26726727,  1.27927928,  1.29129129,  1.3033033 ,  1.31531532,\n",
       "        1.32732733,  1.33933934,  1.35135135,  1.36336336,  1.37537538,\n",
       "        1.38738739,  1.3993994 ,  1.41141141,  1.42342342,  1.43543544,\n",
       "        1.44744745,  1.45945946,  1.47147147,  1.48348348,  1.4954955 ,\n",
       "        1.50750751,  1.51951952,  1.53153153,  1.54354354,  1.55555556,\n",
       "        1.56756757,  1.57957958,  1.59159159,  1.6036036 ,  1.61561562,\n",
       "        1.62762763,  1.63963964,  1.65165165,  1.66366366,  1.67567568,\n",
       "        1.68768769,  1.6996997 ,  1.71171171,  1.72372372,  1.73573574,\n",
       "        1.74774775,  1.75975976,  1.77177177,  1.78378378,  1.7957958 ,\n",
       "        1.80780781,  1.81981982,  1.83183183,  1.84384384,  1.85585586,\n",
       "        1.86786787,  1.87987988,  1.89189189,  1.9039039 ,  1.91591592,\n",
       "        1.92792793,  1.93993994,  1.95195195,  1.96396396,  1.97597598,\n",
       "        1.98798799,  2.        ,  2.01201201,  2.02402402,  2.03603604,\n",
       "        2.04804805,  2.06006006,  2.07207207,  2.08408408,  2.0960961 ,\n",
       "        2.10810811,  2.12012012,  2.13213213,  2.14414414,  2.15615616,\n",
       "        2.16816817,  2.18018018,  2.19219219,  2.2042042 ,  2.21621622,\n",
       "        2.22822823,  2.24024024,  2.25225225,  2.26426426,  2.27627628,\n",
       "        2.28828829,  2.3003003 ,  2.31231231,  2.32432432,  2.33633634,\n",
       "        2.34834835,  2.36036036,  2.37237237,  2.38438438,  2.3963964 ,\n",
       "        2.40840841,  2.42042042,  2.43243243,  2.44444444,  2.45645646,\n",
       "        2.46846847,  2.48048048,  2.49249249,  2.5045045 ,  2.51651652,\n",
       "        2.52852853,  2.54054054,  2.55255255,  2.56456456,  2.57657658,\n",
       "        2.58858859,  2.6006006 ,  2.61261261,  2.62462462,  2.63663664,\n",
       "        2.64864865,  2.66066066,  2.67267267,  2.68468468,  2.6966967 ,\n",
       "        2.70870871,  2.72072072,  2.73273273,  2.74474474,  2.75675676,\n",
       "        2.76876877,  2.78078078,  2.79279279,  2.8048048 ,  2.81681682,\n",
       "        2.82882883,  2.84084084,  2.85285285,  2.86486486,  2.87687688,\n",
       "        2.88888889,  2.9009009 ,  2.91291291,  2.92492492,  2.93693694,\n",
       "        2.94894895,  2.96096096,  2.97297297,  2.98498498,  2.996997  ,\n",
       "        3.00900901,  3.02102102,  3.03303303,  3.04504505,  3.05705706,\n",
       "        3.06906907,  3.08108108,  3.09309309,  3.10510511,  3.11711712,\n",
       "        3.12912913,  3.14114114,  3.15315315,  3.16516517,  3.17717718,\n",
       "        3.18918919,  3.2012012 ,  3.21321321,  3.22522523,  3.23723724,\n",
       "        3.24924925,  3.26126126,  3.27327327,  3.28528529,  3.2972973 ,\n",
       "        3.30930931,  3.32132132,  3.33333333,  3.34534535,  3.35735736,\n",
       "        3.36936937,  3.38138138,  3.39339339,  3.40540541,  3.41741742,\n",
       "        3.42942943,  3.44144144,  3.45345345,  3.46546547,  3.47747748,\n",
       "        3.48948949,  3.5015015 ,  3.51351351,  3.52552553,  3.53753754,\n",
       "        3.54954955,  3.56156156,  3.57357357,  3.58558559,  3.5975976 ,\n",
       "        3.60960961,  3.62162162,  3.63363363,  3.64564565,  3.65765766,\n",
       "        3.66966967,  3.68168168,  3.69369369,  3.70570571,  3.71771772,\n",
       "        3.72972973,  3.74174174,  3.75375375,  3.76576577,  3.77777778,\n",
       "        3.78978979,  3.8018018 ,  3.81381381,  3.82582583,  3.83783784,\n",
       "        3.84984985,  3.86186186,  3.87387387,  3.88588589,  3.8978979 ,\n",
       "        3.90990991,  3.92192192,  3.93393393,  3.94594595,  3.95795796,\n",
       "        3.96996997,  3.98198198,  3.99399399,  4.00600601,  4.01801802,\n",
       "        4.03003003,  4.04204204,  4.05405405,  4.06606607,  4.07807808,\n",
       "        4.09009009,  4.1021021 ,  4.11411411,  4.12612613,  4.13813814,\n",
       "        4.15015015,  4.16216216,  4.17417417,  4.18618619,  4.1981982 ,\n",
       "        4.21021021,  4.22222222,  4.23423423,  4.24624625,  4.25825826,\n",
       "        4.27027027,  4.28228228,  4.29429429,  4.30630631,  4.31831832,\n",
       "        4.33033033,  4.34234234,  4.35435435,  4.36636637,  4.37837838,\n",
       "        4.39039039,  4.4024024 ,  4.41441441,  4.42642643,  4.43843844,\n",
       "        4.45045045,  4.46246246,  4.47447447,  4.48648649,  4.4984985 ,\n",
       "        4.51051051,  4.52252252,  4.53453453,  4.54654655,  4.55855856,\n",
       "        4.57057057,  4.58258258,  4.59459459,  4.60660661,  4.61861862,\n",
       "        4.63063063,  4.64264264,  4.65465465,  4.66666667,  4.67867868,\n",
       "        4.69069069,  4.7027027 ,  4.71471471,  4.72672673,  4.73873874,\n",
       "        4.75075075,  4.76276276,  4.77477477,  4.78678679,  4.7987988 ,\n",
       "        4.81081081,  4.82282282,  4.83483483,  4.84684685,  4.85885886,\n",
       "        4.87087087,  4.88288288,  4.89489489,  4.90690691,  4.91891892,\n",
       "        4.93093093,  4.94294294,  4.95495495,  4.96696697,  4.97897898,\n",
       "        4.99099099,  5.003003  ,  5.01501502,  5.02702703,  5.03903904,\n",
       "        5.05105105,  5.06306306,  5.07507508,  5.08708709,  5.0990991 ,\n",
       "        5.11111111,  5.12312312,  5.13513514,  5.14714715,  5.15915916,\n",
       "        5.17117117,  5.18318318,  5.1951952 ,  5.20720721,  5.21921922,\n",
       "        5.23123123,  5.24324324,  5.25525526,  5.26726727,  5.27927928,\n",
       "        5.29129129,  5.3033033 ,  5.31531532,  5.32732733,  5.33933934,\n",
       "        5.35135135,  5.36336336,  5.37537538,  5.38738739,  5.3993994 ,\n",
       "        5.41141141,  5.42342342,  5.43543544,  5.44744745,  5.45945946,\n",
       "        5.47147147,  5.48348348,  5.4954955 ,  5.50750751,  5.51951952,\n",
       "        5.53153153,  5.54354354,  5.55555556,  5.56756757,  5.57957958,\n",
       "        5.59159159,  5.6036036 ,  5.61561562,  5.62762763,  5.63963964,\n",
       "        5.65165165,  5.66366366,  5.67567568,  5.68768769,  5.6996997 ,\n",
       "        5.71171171,  5.72372372,  5.73573574,  5.74774775,  5.75975976,\n",
       "        5.77177177,  5.78378378,  5.7957958 ,  5.80780781,  5.81981982,\n",
       "        5.83183183,  5.84384384,  5.85585586,  5.86786787,  5.87987988,\n",
       "        5.89189189,  5.9039039 ,  5.91591592,  5.92792793,  5.93993994,\n",
       "        5.95195195,  5.96396396,  5.97597598,  5.98798799,  6.        ])"
      ]
     },
     "execution_count": 397,
     "metadata": {},
     "output_type": "execute_result"
    }
   ],
   "source": [
    "np.linspace(-6, 6, 1000)"
   ]
  },
  {
   "cell_type": "code",
   "execution_count": 305,
   "id": "686dd64b",
   "metadata": {},
   "outputs": [
    {
     "data": {
      "text/plain": [
       "0.00018082025006242345"
      ]
     },
     "execution_count": 305,
     "metadata": {},
     "output_type": "execute_result"
    }
   ],
   "source": [
    "np.min(np.random.exponential(scale = 0.5, size = 1000))"
   ]
  },
  {
   "cell_type": "code",
   "execution_count": 6,
   "id": "d0a41f35",
   "metadata": {},
   "outputs": [],
   "source": []
  },
  {
   "cell_type": "code",
   "execution_count": 16,
   "id": "821735a2",
   "metadata": {},
   "outputs": [
    {
     "name": "stdout",
     "output_type": "stream",
     "text": [
      "0.9999999999999997\n",
      "0.9999999999999998\n"
     ]
    }
   ],
   "source": [
    "n = 10\n",
    "\n",
    "w = np.random.dirichlet(np.ones(n))\n",
    "\n",
    "C = np.ones((n, n))\n",
    "\n",
    "print(w @ C @ w)\n",
    "\n",
    "W1, W2 = np.meshgrid(w, w)\n",
    "\n",
    "print(np.sum(W1 * W2 * C))"
   ]
  },
  {
   "cell_type": "code",
   "execution_count": null,
   "id": "7aa6b758",
   "metadata": {},
   "outputs": [],
   "source": []
  }
 ],
 "metadata": {
  "kernelspec": {
   "display_name": "Python 3 (ipykernel)",
   "language": "python",
   "name": "python3"
  },
  "language_info": {
   "codemirror_mode": {
    "name": "ipython",
    "version": 3
   },
   "file_extension": ".py",
   "mimetype": "text/x-python",
   "name": "python",
   "nbconvert_exporter": "python",
   "pygments_lexer": "ipython3",
   "version": "3.9.7"
  }
 },
 "nbformat": 4,
 "nbformat_minor": 5
}
